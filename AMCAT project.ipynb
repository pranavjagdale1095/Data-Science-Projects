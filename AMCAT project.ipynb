{
 "cells": [
  {
   "cell_type": "code",
   "execution_count": 1,
   "metadata": {},
   "outputs": [],
   "source": [
    "from pyforest import *"
   ]
  },
  {
   "cell_type": "code",
   "execution_count": 2,
   "metadata": {},
   "outputs": [
    {
     "data": {
      "application/javascript": [
       "\n",
       "        if (window._pyforest_update_imports_cell) { window._pyforest_update_imports_cell('import pandas as pd'); }\n",
       "    "
      ],
      "text/plain": [
       "<IPython.core.display.Javascript object>"
      ]
     },
     "metadata": {},
     "output_type": "display_data"
    }
   ],
   "source": [
    "df1= pd.read_csv('train.csv')"
   ]
  },
  {
   "cell_type": "code",
   "execution_count": 3,
   "metadata": {},
   "outputs": [
    {
     "data": {
      "application/javascript": [
       "\n",
       "        if (window._pyforest_update_imports_cell) { window._pyforest_update_imports_cell('import pandas as pd'); }\n",
       "    "
      ],
      "text/plain": [
       "<IPython.core.display.Javascript object>"
      ]
     },
     "metadata": {},
     "output_type": "display_data"
    }
   ],
   "source": [
    "df2=pd.read_csv(\"test.csv\")"
   ]
  },
  {
   "cell_type": "code",
   "execution_count": 4,
   "metadata": {},
   "outputs": [
    {
     "data": {
      "application/javascript": [
       "\n",
       "        if (window._pyforest_update_imports_cell) { window._pyforest_update_imports_cell('import pandas as pd'); }\n",
       "    "
      ],
      "text/plain": [
       "<IPython.core.display.Javascript object>"
      ]
     },
     "metadata": {},
     "output_type": "display_data"
    }
   ],
   "source": [
    "data=pd.concat([df1,df2])"
   ]
  },
  {
   "cell_type": "code",
   "execution_count": 5,
   "metadata": {},
   "outputs": [
    {
     "data": {
      "text/html": [
       "<div>\n",
       "<style scoped>\n",
       "    .dataframe tbody tr th:only-of-type {\n",
       "        vertical-align: middle;\n",
       "    }\n",
       "\n",
       "    .dataframe tbody tr th {\n",
       "        vertical-align: top;\n",
       "    }\n",
       "\n",
       "    .dataframe thead th {\n",
       "        text-align: right;\n",
       "    }\n",
       "</style>\n",
       "<table border=\"1\" class=\"dataframe\">\n",
       "  <thead>\n",
       "    <tr style=\"text-align: right;\">\n",
       "      <th></th>\n",
       "      <th>Unnamed: 0</th>\n",
       "      <th>ID</th>\n",
       "      <th>Salary</th>\n",
       "      <th>DOJ</th>\n",
       "      <th>DOL</th>\n",
       "      <th>Designation</th>\n",
       "      <th>JobCity</th>\n",
       "      <th>Gender</th>\n",
       "      <th>DOB</th>\n",
       "      <th>10percentage</th>\n",
       "      <th>...</th>\n",
       "      <th>ComputerScience</th>\n",
       "      <th>MechanicalEngg</th>\n",
       "      <th>ElectricalEngg</th>\n",
       "      <th>TelecomEngg</th>\n",
       "      <th>CivilEngg</th>\n",
       "      <th>conscientiousness</th>\n",
       "      <th>agreeableness</th>\n",
       "      <th>extraversion</th>\n",
       "      <th>nueroticism</th>\n",
       "      <th>openess_to_experience</th>\n",
       "    </tr>\n",
       "  </thead>\n",
       "  <tbody>\n",
       "    <tr>\n",
       "      <td>0</td>\n",
       "      <td>train</td>\n",
       "      <td>203097</td>\n",
       "      <td>420000</td>\n",
       "      <td>01-06-2012 00:00</td>\n",
       "      <td>present</td>\n",
       "      <td>senior quality engineer</td>\n",
       "      <td>Bangalore</td>\n",
       "      <td>f</td>\n",
       "      <td>19-02-1990 00:00</td>\n",
       "      <td>84.3</td>\n",
       "      <td>...</td>\n",
       "      <td>-1</td>\n",
       "      <td>-1</td>\n",
       "      <td>-1</td>\n",
       "      <td>-1</td>\n",
       "      <td>-1</td>\n",
       "      <td>0.9737</td>\n",
       "      <td>0.8128</td>\n",
       "      <td>0.5269</td>\n",
       "      <td>1.35490</td>\n",
       "      <td>-0.4455</td>\n",
       "    </tr>\n",
       "    <tr>\n",
       "      <td>1</td>\n",
       "      <td>train</td>\n",
       "      <td>579905</td>\n",
       "      <td>500000</td>\n",
       "      <td>01-09-2013 00:00</td>\n",
       "      <td>present</td>\n",
       "      <td>assistant manager</td>\n",
       "      <td>Indore</td>\n",
       "      <td>m</td>\n",
       "      <td>04-10-1989 00:00</td>\n",
       "      <td>85.4</td>\n",
       "      <td>...</td>\n",
       "      <td>-1</td>\n",
       "      <td>-1</td>\n",
       "      <td>-1</td>\n",
       "      <td>-1</td>\n",
       "      <td>-1</td>\n",
       "      <td>-0.7335</td>\n",
       "      <td>0.3789</td>\n",
       "      <td>1.2396</td>\n",
       "      <td>-0.10760</td>\n",
       "      <td>0.8637</td>\n",
       "    </tr>\n",
       "    <tr>\n",
       "      <td>2</td>\n",
       "      <td>train</td>\n",
       "      <td>810601</td>\n",
       "      <td>325000</td>\n",
       "      <td>01-06-2014 00:00</td>\n",
       "      <td>present</td>\n",
       "      <td>systems engineer</td>\n",
       "      <td>Chennai</td>\n",
       "      <td>f</td>\n",
       "      <td>03-08-1992 00:00</td>\n",
       "      <td>85.0</td>\n",
       "      <td>...</td>\n",
       "      <td>-1</td>\n",
       "      <td>-1</td>\n",
       "      <td>-1</td>\n",
       "      <td>-1</td>\n",
       "      <td>-1</td>\n",
       "      <td>0.2718</td>\n",
       "      <td>1.7109</td>\n",
       "      <td>0.1637</td>\n",
       "      <td>-0.86820</td>\n",
       "      <td>0.6721</td>\n",
       "    </tr>\n",
       "    <tr>\n",
       "      <td>3</td>\n",
       "      <td>train</td>\n",
       "      <td>267447</td>\n",
       "      <td>1.1e+06</td>\n",
       "      <td>01-07-2011 00:00</td>\n",
       "      <td>present</td>\n",
       "      <td>senior software engineer</td>\n",
       "      <td>Gurgaon</td>\n",
       "      <td>m</td>\n",
       "      <td>05-12-1989 00:00</td>\n",
       "      <td>85.6</td>\n",
       "      <td>...</td>\n",
       "      <td>-1</td>\n",
       "      <td>-1</td>\n",
       "      <td>-1</td>\n",
       "      <td>-1</td>\n",
       "      <td>-1</td>\n",
       "      <td>0.0464</td>\n",
       "      <td>0.3448</td>\n",
       "      <td>-0.3440</td>\n",
       "      <td>-0.40780</td>\n",
       "      <td>-0.9194</td>\n",
       "    </tr>\n",
       "    <tr>\n",
       "      <td>4</td>\n",
       "      <td>train</td>\n",
       "      <td>343523</td>\n",
       "      <td>200000</td>\n",
       "      <td>01-03-2014 00:00</td>\n",
       "      <td>01-03-2015 00:00</td>\n",
       "      <td>get</td>\n",
       "      <td>Manesar</td>\n",
       "      <td>m</td>\n",
       "      <td>27-02-1991 00:00</td>\n",
       "      <td>78.0</td>\n",
       "      <td>...</td>\n",
       "      <td>-1</td>\n",
       "      <td>-1</td>\n",
       "      <td>-1</td>\n",
       "      <td>-1</td>\n",
       "      <td>-1</td>\n",
       "      <td>-0.8810</td>\n",
       "      <td>-0.2793</td>\n",
       "      <td>-1.0697</td>\n",
       "      <td>0.09163</td>\n",
       "      <td>-0.1295</td>\n",
       "    </tr>\n",
       "  </tbody>\n",
       "</table>\n",
       "<p>5 rows × 39 columns</p>\n",
       "</div>"
      ],
      "text/plain": [
       "  Unnamed: 0      ID   Salary               DOJ               DOL  \\\n",
       "0      train  203097   420000  01-06-2012 00:00           present   \n",
       "1      train  579905   500000  01-09-2013 00:00           present   \n",
       "2      train  810601   325000  01-06-2014 00:00           present   \n",
       "3      train  267447  1.1e+06  01-07-2011 00:00           present   \n",
       "4      train  343523   200000  01-03-2014 00:00  01-03-2015 00:00   \n",
       "\n",
       "                Designation    JobCity Gender               DOB  10percentage  \\\n",
       "0   senior quality engineer  Bangalore      f  19-02-1990 00:00          84.3   \n",
       "1         assistant manager     Indore      m  04-10-1989 00:00          85.4   \n",
       "2          systems engineer    Chennai      f  03-08-1992 00:00          85.0   \n",
       "3  senior software engineer    Gurgaon      m  05-12-1989 00:00          85.6   \n",
       "4                       get    Manesar      m  27-02-1991 00:00          78.0   \n",
       "\n",
       "   ... ComputerScience  MechanicalEngg  ElectricalEngg TelecomEngg  CivilEngg  \\\n",
       "0  ...              -1              -1              -1          -1         -1   \n",
       "1  ...              -1              -1              -1          -1         -1   \n",
       "2  ...              -1              -1              -1          -1         -1   \n",
       "3  ...              -1              -1              -1          -1         -1   \n",
       "4  ...              -1              -1              -1          -1         -1   \n",
       "\n",
       "   conscientiousness agreeableness extraversion  nueroticism  \\\n",
       "0             0.9737        0.8128       0.5269      1.35490   \n",
       "1            -0.7335        0.3789       1.2396     -0.10760   \n",
       "2             0.2718        1.7109       0.1637     -0.86820   \n",
       "3             0.0464        0.3448      -0.3440     -0.40780   \n",
       "4            -0.8810       -0.2793      -1.0697      0.09163   \n",
       "\n",
       "   openess_to_experience  \n",
       "0                -0.4455  \n",
       "1                 0.8637  \n",
       "2                 0.6721  \n",
       "3                -0.9194  \n",
       "4                -0.1295  \n",
       "\n",
       "[5 rows x 39 columns]"
      ]
     },
     "execution_count": 5,
     "metadata": {},
     "output_type": "execute_result"
    }
   ],
   "source": [
    "data.head()"
   ]
  },
  {
   "cell_type": "code",
   "execution_count": 6,
   "metadata": {},
   "outputs": [
    {
     "data": {
      "text/plain": [
       "Index(['Unnamed: 0', 'ID', 'Salary', 'DOJ', 'DOL', 'Designation', 'JobCity',\n",
       "       'Gender', 'DOB', '10percentage', '10board', '12graduation',\n",
       "       '12percentage', '12board', 'CollegeID', 'CollegeTier', 'Degree',\n",
       "       'Specialization', 'collegeGPA', 'CollegeCityID', 'CollegeCityTier',\n",
       "       'CollegeState', 'GraduationYear', 'English', 'Logical', 'Quant',\n",
       "       'Domain', 'ComputerProgramming', 'ElectronicsAndSemicon',\n",
       "       'ComputerScience', 'MechanicalEngg', 'ElectricalEngg', 'TelecomEngg',\n",
       "       'CivilEngg', 'conscientiousness', 'agreeableness', 'extraversion',\n",
       "       'nueroticism', 'openess_to_experience'],\n",
       "      dtype='object')"
      ]
     },
     "execution_count": 6,
     "metadata": {},
     "output_type": "execute_result"
    }
   ],
   "source": [
    "data.columns"
   ]
  },
  {
   "cell_type": "code",
   "execution_count": 7,
   "metadata": {},
   "outputs": [
    {
     "name": "stdout",
     "output_type": "stream",
     "text": [
      "<class 'pandas.core.frame.DataFrame'>\n",
      "Int64Index: 5498 entries, 0 to 1499\n",
      "Data columns (total 39 columns):\n",
      "Unnamed: 0               5498 non-null object\n",
      "ID                       5498 non-null int64\n",
      "Salary                   5498 non-null object\n",
      "DOJ                      5498 non-null object\n",
      "DOL                      5498 non-null object\n",
      "Designation              5498 non-null object\n",
      "JobCity                  5498 non-null object\n",
      "Gender                   5498 non-null object\n",
      "DOB                      5498 non-null object\n",
      "10percentage             5498 non-null float64\n",
      "10board                  5498 non-null object\n",
      "12graduation             5498 non-null int64\n",
      "12percentage             5498 non-null float64\n",
      "12board                  5498 non-null object\n",
      "CollegeID                5498 non-null int64\n",
      "CollegeTier              5498 non-null int64\n",
      "Degree                   5498 non-null object\n",
      "Specialization           5498 non-null object\n",
      "collegeGPA               5498 non-null float64\n",
      "CollegeCityID            5498 non-null int64\n",
      "CollegeCityTier          5498 non-null int64\n",
      "CollegeState             5498 non-null object\n",
      "GraduationYear           5498 non-null int64\n",
      "English                  5498 non-null int64\n",
      "Logical                  5498 non-null int64\n",
      "Quant                    5498 non-null int64\n",
      "Domain                   5498 non-null float64\n",
      "ComputerProgramming      5498 non-null int64\n",
      "ElectronicsAndSemicon    5498 non-null int64\n",
      "ComputerScience          5498 non-null int64\n",
      "MechanicalEngg           5498 non-null int64\n",
      "ElectricalEngg           5498 non-null int64\n",
      "TelecomEngg              5498 non-null int64\n",
      "CivilEngg                5498 non-null int64\n",
      "conscientiousness        5498 non-null float64\n",
      "agreeableness            5498 non-null float64\n",
      "extraversion             5498 non-null float64\n",
      "nueroticism              5498 non-null float64\n",
      "openess_to_experience    5498 non-null float64\n",
      "dtypes: float64(9), int64(17), object(13)\n",
      "memory usage: 1.7+ MB\n"
     ]
    }
   ],
   "source": [
    "data.info()"
   ]
  },
  {
   "cell_type": "markdown",
   "metadata": {},
   "source": [
    "## Data Cleaning"
   ]
  },
  {
   "cell_type": "code",
   "execution_count": 8,
   "metadata": {},
   "outputs": [
    {
     "data": {
      "text/plain": [
       "electronics and communication engineering      1210\n",
       "computer science & engineering                 1027\n",
       "information technology                          901\n",
       "computer engineering                            838\n",
       "computer application                            314\n",
       "electronics and electrical engineering          281\n",
       "mechanical engineering                          271\n",
       "electronics & telecommunications                163\n",
       "electrical engineering                          108\n",
       "civil engineering                                44\n",
       "electronics & instrumentation eng                42\n",
       "electronics and instrumentation engineering      39\n",
       "information science engineering                  34\n",
       "electronics engineering                          29\n",
       "instrumentation and control engineering          26\n",
       "biotechnology                                    20\n",
       "other                                            17\n",
       "applied electronics and instrumentation          16\n",
       "industrial & production engineering              12\n",
       "chemical engineering                             11\n",
       "telecommunication engineering                    10\n",
       "computer science and technology                   9\n",
       "automobile/automotive engineering                 8\n",
       "biomedical engineering                            6\n",
       "aeronautical engineering                          6\n",
       "mechatronics                                      5\n",
       "mechanical and automation                         5\n",
       "instrumentation engineering                       5\n",
       "computer science                                  4\n",
       "electronics and computer engineering              4\n",
       "metallurgical engineering                         3\n",
       "electrical and power engineering                  3\n",
       "information & communication technology            2\n",
       "industrial engineering                            2\n",
       "vlsi design and cad                               2\n",
       "operational research                              1\n",
       "industrial engineering and management             1\n",
       "environment science                               1\n",
       "textile engineering                               1\n",
       "polymer technology                                1\n",
       "control and instrumentation engineering           1\n",
       "construction technology and management            1\n",
       "internal combustion engine                        1\n",
       "industrial & management engineering               1\n",
       "power systems and automation                      1\n",
       "communication engineering                         1\n",
       "computer networking                               1\n",
       "computer and communication engineering            1\n",
       "embedded systems technology                       1\n",
       "software engineering                              1\n",
       "mechanical & production engineering               1\n",
       "electronics                                       1\n",
       "information science                               1\n",
       "aerospace engineering                             1\n",
       "cad / cam                                         1\n",
       "ceramic engineering                               1\n",
       "Name: Specialization, dtype: int64"
      ]
     },
     "execution_count": 8,
     "metadata": {},
     "output_type": "execute_result"
    }
   ],
   "source": [
    "data[\"Specialization\"].value_counts()"
   ]
  },
  {
   "cell_type": "code",
   "execution_count": 9,
   "metadata": {},
   "outputs": [
    {
     "data": {
      "text/plain": [
       "0"
      ]
     },
     "execution_count": 9,
     "metadata": {},
     "output_type": "execute_result"
    }
   ],
   "source": [
    "data[\"GraduationYear\"].isnull().sum()"
   ]
  },
  {
   "cell_type": "code",
   "execution_count": 10,
   "metadata": {},
   "outputs": [
    {
     "data": {
      "text/plain": [
       "40.0"
      ]
     },
     "execution_count": 10,
     "metadata": {},
     "output_type": "execute_result"
    }
   ],
   "source": [
    "data[\"12percentage\"].min()"
   ]
  },
  {
   "cell_type": "code",
   "execution_count": 11,
   "metadata": {},
   "outputs": [
    {
     "data": {
      "text/plain": [
       "98.7"
      ]
     },
     "execution_count": 11,
     "metadata": {},
     "output_type": "execute_result"
    }
   ],
   "source": [
    "data[\"12percentage\"].max()"
   ]
  },
  {
   "cell_type": "markdown",
   "metadata": {},
   "source": [
    "1) DOB can be converted into continuous data as AGE so we will convert DOB in Age column"
   ]
  },
  {
   "cell_type": "code",
   "execution_count": 12,
   "metadata": {},
   "outputs": [
    {
     "data": {
      "application/javascript": [
       "\n",
       "        if (window._pyforest_update_imports_cell) { window._pyforest_update_imports_cell('import pandas as pd'); }\n",
       "    "
      ],
      "text/plain": [
       "<IPython.core.display.Javascript object>"
      ]
     },
     "metadata": {},
     "output_type": "display_data"
    }
   ],
   "source": [
    "data['Age']=2019-(pd.DatetimeIndex(data['DOB']).year)\n",
    "data=data.drop('DOB',axis=1)"
   ]
  },
  {
   "cell_type": "code",
   "execution_count": 13,
   "metadata": {},
   "outputs": [
    {
     "data": {
      "application/javascript": [
       "\n",
       "        if (window._pyforest_update_imports_cell) { window._pyforest_update_imports_cell('import numpy as np\\nimport pandas as pd'); }\n",
       "    "
      ],
      "text/plain": [
       "<IPython.core.display.Javascript object>"
      ]
     },
     "metadata": {},
     "output_type": "display_data"
    },
    {
     "data": {
      "application/javascript": [
       "\n",
       "        if (window._pyforest_update_imports_cell) { window._pyforest_update_imports_cell('import numpy as np\\nimport pandas as pd'); }\n",
       "    "
      ],
      "text/plain": [
       "<IPython.core.display.Javascript object>"
      ]
     },
     "metadata": {},
     "output_type": "display_data"
    },
    {
     "data": {
      "application/javascript": [
       "\n",
       "        if (window._pyforest_update_imports_cell) { window._pyforest_update_imports_cell('import numpy as np\\nimport pandas as pd'); }\n",
       "    "
      ],
      "text/plain": [
       "<IPython.core.display.Javascript object>"
      ]
     },
     "metadata": {},
     "output_type": "display_data"
    },
    {
     "data": {
      "application/javascript": [
       "\n",
       "        if (window._pyforest_update_imports_cell) { window._pyforest_update_imports_cell('import numpy as np\\nimport pandas as pd'); }\n",
       "    "
      ],
      "text/plain": [
       "<IPython.core.display.Javascript object>"
      ]
     },
     "metadata": {},
     "output_type": "display_data"
    }
   ],
   "source": [
    "# make cbse as uniform thorughout column\n",
    "data['10board'].replace(to_replace='central board of secondary education',value='cbse',inplace=True)\n",
    "data['10board'].replace(to_replace='0',value=np.nan,inplace=True)\n",
    "\n",
    "data['12board'].replace(to_replace='central board of secondary education',value='cbse',inplace=True)\n",
    "data['12board'].replace(to_replace='0',value=np.nan,inplace=True)\n",
    "\n",
    "\n",
    "# convert other all board except cbse and icse as state board\n",
    "data['10board'].replace(to_replace=data['10board'][(data['10board']!='cbse') & (data['10board']!='icse') \n",
    "                                                   & (data['10board']!=np.nan)].values,value='state board',inplace=True)\n",
    "# convert other all board except cbse and icse as state board\n",
    "data['12board'].replace(to_replace=data['12board'][(data['12board']!='cbse') & (data['12board']!='icse')\n",
    "                                                   & (data['12board']!=np.nan)].values,value='state board',inplace=True)\n"
   ]
  },
  {
   "cell_type": "code",
   "execution_count": 14,
   "metadata": {},
   "outputs": [],
   "source": [
    "data[\"collegeGPA\"]=data[data[\"collegeGPA\"]>1][\"collegeGPA\"]*9.5"
   ]
  },
  {
   "cell_type": "code",
   "execution_count": 15,
   "metadata": {},
   "outputs": [
    {
     "data": {
      "text/plain": [
       "61.275"
      ]
     },
     "execution_count": 15,
     "metadata": {},
     "output_type": "execute_result"
    }
   ],
   "source": [
    "data[\"collegeGPA\"].min()"
   ]
  },
  {
   "cell_type": "markdown",
   "metadata": {},
   "source": [
    "4) college tier"
   ]
  },
  {
   "cell_type": "code",
   "execution_count": 16,
   "metadata": {},
   "outputs": [
    {
     "name": "stdout",
     "output_type": "stream",
     "text": [
      "state board    0.599882\n",
      "cbse           0.328423\n",
      "icse           0.071695\n",
      "Name: 10board, dtype: float64\n",
      "cbse           0.636364\n",
      "state board    0.285012\n",
      "icse           0.078624\n",
      "Name: 10board, dtype: float64\n",
      "\n",
      "\n",
      "state board    0.639953\n",
      "cbse           0.327637\n",
      "icse           0.032410\n",
      "Name: 12board, dtype: float64\n",
      "cbse           0.678133\n",
      "state board    0.299754\n",
      "icse           0.022113\n",
      "Name: 12board, dtype: float64\n"
     ]
    }
   ],
   "source": [
    "# Filling missing value by following logic\n",
    "\n",
    "print(data[data['CollegeTier']==2]['10board'].value_counts(1))\n",
    "#print('\\n')\n",
    "print(data[data['CollegeTier']==1]['10board'].value_counts(1))\n",
    "print('\\n')\n",
    "print(data[data['CollegeTier']==2]['12board'].value_counts(1))\n",
    "#print('\\n')\n",
    "print(data[data['CollegeTier']==1]['12board'].value_counts(1))"
   ]
  },
  {
   "cell_type": "code",
   "execution_count": 17,
   "metadata": {},
   "outputs": [],
   "source": [
    "for x in data['CollegeTier'].values:\n",
    "        if x==2:\n",
    "            data['10board'].fillna('state board')\n",
    "            data['12board'].fillna('state board')\n",
    "        elif x==1:\n",
    "            data['10board'].fillna('cbse')\n",
    "            data['12board'].fillna('cbse')    "
   ]
  },
  {
   "cell_type": "code",
   "execution_count": 18,
   "metadata": {},
   "outputs": [],
   "source": [
    "data['Domain']=data['Domain'].replace(to_replace=-1,value=0.649389715)  # data[data['Domain']!=-1]['Domain'].median()"
   ]
  },
  {
   "cell_type": "code",
   "execution_count": 19,
   "metadata": {},
   "outputs": [],
   "source": [
    "data['GraduationYear']=data['GraduationYear'].replace(to_replace=0,value=2016) \n",
    "# checked manually his corresponding 12 yr of passing\n"
   ]
  },
  {
   "cell_type": "markdown",
   "metadata": {},
   "source": [
    "We have 7 columns of different exm scores out of which each student have given only 2-3 exmas so we will make a column of marks separetly by considering the max of whatever makrs they got in each exam"
   ]
  },
  {
   "cell_type": "code",
   "execution_count": 20,
   "metadata": {},
   "outputs": [],
   "source": [
    "x=list(range(0,data.shape[0]))\n",
    "data[\"Mark1\"]=x\n",
    "def Max_mark(x):\n",
    "    return(data[['ComputerProgramming','ElectronicsAndSemicon', 'ComputerScience', 'MechanicalEngg',\n",
    "       'ElectricalEngg', 'TelecomEngg', 'CivilEngg']].iloc[x,:].max())\n",
    "\n",
    "data[\"Mark\"]=data['Mark1'].apply(Max_mark)"
   ]
  },
  {
   "cell_type": "code",
   "execution_count": 21,
   "metadata": {},
   "outputs": [],
   "source": [
    "data=data.drop(['Mark1','ComputerProgramming','ElectronicsAndSemicon', 'ComputerScience', 'MechanicalEngg',\n",
    "       'ElectricalEngg', 'TelecomEngg', 'CivilEngg'],axis=1)"
   ]
  },
  {
   "cell_type": "markdown",
   "metadata": {},
   "source": [
    "There are 130 missing values so we will replace that values in Marks column by mean"
   ]
  },
  {
   "cell_type": "code",
   "execution_count": 22,
   "metadata": {},
   "outputs": [],
   "source": [
    "data['Mark'].replace(to_replace=-1,value=data['Mark'].median(),inplace=True)"
   ]
  },
  {
   "cell_type": "markdown",
   "metadata": {},
   "source": [
    "Specialization column has many specialization so we will keep only main major specializations by names & remaining we return them as \"Other\""
   ]
  },
  {
   "cell_type": "code",
   "execution_count": 23,
   "metadata": {},
   "outputs": [],
   "source": [
    "x=data.Specialization.value_counts()[0:15]\n",
    "def change_sp(i):\n",
    "    if i not in x.index:\n",
    "        return 'Other'\n",
    "    else:\n",
    "        return i\n",
    "        \n",
    "data['Specialization']=data['Specialization'].apply(change_sp)"
   ]
  },
  {
   "cell_type": "code",
   "execution_count": 24,
   "metadata": {},
   "outputs": [],
   "source": [
    "x=data.CollegeState.value_counts(1)[0:14]\n",
    "def change_CS(i):\n",
    "    if i not in x.index:\n",
    "        return 'Other'\n",
    "    else:\n",
    "        return i\n",
    "        \n",
    "data['CollegeState']=data['CollegeState'].apply(change_CS)"
   ]
  },
  {
   "cell_type": "code",
   "execution_count": 25,
   "metadata": {},
   "outputs": [
    {
     "data": {
      "text/html": [
       "<div>\n",
       "<style scoped>\n",
       "    .dataframe tbody tr th:only-of-type {\n",
       "        vertical-align: middle;\n",
       "    }\n",
       "\n",
       "    .dataframe tbody tr th {\n",
       "        vertical-align: top;\n",
       "    }\n",
       "\n",
       "    .dataframe thead th {\n",
       "        text-align: right;\n",
       "    }\n",
       "</style>\n",
       "<table border=\"1\" class=\"dataframe\">\n",
       "  <thead>\n",
       "    <tr style=\"text-align: right;\">\n",
       "      <th></th>\n",
       "      <th>Unnamed: 0</th>\n",
       "      <th>ID</th>\n",
       "      <th>Salary</th>\n",
       "      <th>DOJ</th>\n",
       "      <th>DOL</th>\n",
       "      <th>Designation</th>\n",
       "      <th>JobCity</th>\n",
       "      <th>Gender</th>\n",
       "      <th>10percentage</th>\n",
       "      <th>10board</th>\n",
       "      <th>...</th>\n",
       "      <th>Logical</th>\n",
       "      <th>Quant</th>\n",
       "      <th>Domain</th>\n",
       "      <th>conscientiousness</th>\n",
       "      <th>agreeableness</th>\n",
       "      <th>extraversion</th>\n",
       "      <th>nueroticism</th>\n",
       "      <th>openess_to_experience</th>\n",
       "      <th>Age</th>\n",
       "      <th>Mark</th>\n",
       "    </tr>\n",
       "  </thead>\n",
       "  <tbody>\n",
       "    <tr>\n",
       "      <td>0</td>\n",
       "      <td>train</td>\n",
       "      <td>203097</td>\n",
       "      <td>420000</td>\n",
       "      <td>01-06-2012 00:00</td>\n",
       "      <td>present</td>\n",
       "      <td>senior quality engineer</td>\n",
       "      <td>Bangalore</td>\n",
       "      <td>f</td>\n",
       "      <td>84.3</td>\n",
       "      <td>state board</td>\n",
       "      <td>...</td>\n",
       "      <td>585</td>\n",
       "      <td>525</td>\n",
       "      <td>0.635979</td>\n",
       "      <td>0.9737</td>\n",
       "      <td>0.8128</td>\n",
       "      <td>0.5269</td>\n",
       "      <td>1.3549</td>\n",
       "      <td>-0.4455</td>\n",
       "      <td>29</td>\n",
       "      <td>445</td>\n",
       "    </tr>\n",
       "    <tr>\n",
       "      <td>1</td>\n",
       "      <td>train</td>\n",
       "      <td>579905</td>\n",
       "      <td>500000</td>\n",
       "      <td>01-09-2013 00:00</td>\n",
       "      <td>present</td>\n",
       "      <td>assistant manager</td>\n",
       "      <td>Indore</td>\n",
       "      <td>m</td>\n",
       "      <td>85.4</td>\n",
       "      <td>cbse</td>\n",
       "      <td>...</td>\n",
       "      <td>610</td>\n",
       "      <td>780</td>\n",
       "      <td>0.960603</td>\n",
       "      <td>-0.7335</td>\n",
       "      <td>0.3789</td>\n",
       "      <td>1.2396</td>\n",
       "      <td>-0.1076</td>\n",
       "      <td>0.8637</td>\n",
       "      <td>30</td>\n",
       "      <td>466</td>\n",
       "    </tr>\n",
       "  </tbody>\n",
       "</table>\n",
       "<p>2 rows × 33 columns</p>\n",
       "</div>"
      ],
      "text/plain": [
       "  Unnamed: 0      ID  Salary               DOJ      DOL  \\\n",
       "0      train  203097  420000  01-06-2012 00:00  present   \n",
       "1      train  579905  500000  01-09-2013 00:00  present   \n",
       "\n",
       "               Designation    JobCity Gender  10percentage      10board  ...  \\\n",
       "0  senior quality engineer  Bangalore      f          84.3  state board  ...   \n",
       "1        assistant manager     Indore      m          85.4         cbse  ...   \n",
       "\n",
       "   Logical  Quant    Domain  conscientiousness  agreeableness extraversion  \\\n",
       "0      585    525  0.635979             0.9737         0.8128       0.5269   \n",
       "1      610    780  0.960603            -0.7335         0.3789       1.2396   \n",
       "\n",
       "  nueroticism  openess_to_experience  Age  Mark  \n",
       "0      1.3549                -0.4455   29   445  \n",
       "1     -0.1076                 0.8637   30   466  \n",
       "\n",
       "[2 rows x 33 columns]"
      ]
     },
     "execution_count": 25,
     "metadata": {},
     "output_type": "execute_result"
    }
   ],
   "source": [
    "data.head(2)"
   ]
  },
  {
   "cell_type": "code",
   "execution_count": 26,
   "metadata": {},
   "outputs": [
    {
     "data": {
      "text/plain": [
       "Index(['Unnamed: 0', 'ID', 'Salary', 'DOJ', 'DOL', 'Designation', 'JobCity',\n",
       "       'Gender', '10percentage', '10board', '12graduation', '12percentage',\n",
       "       '12board', 'CollegeID', 'CollegeTier', 'Degree', 'Specialization',\n",
       "       'collegeGPA', 'CollegeCityID', 'CollegeCityTier', 'CollegeState',\n",
       "       'GraduationYear', 'English', 'Logical', 'Quant', 'Domain',\n",
       "       'conscientiousness', 'agreeableness', 'extraversion', 'nueroticism',\n",
       "       'openess_to_experience', 'Age', 'Mark'],\n",
       "      dtype='object')"
      ]
     },
     "execution_count": 26,
     "metadata": {},
     "output_type": "execute_result"
    }
   ],
   "source": [
    "data.columns"
   ]
  },
  {
   "cell_type": "code",
   "execution_count": 27,
   "metadata": {},
   "outputs": [],
   "source": [
    "final_train=data.iloc[0:3998,:]"
   ]
  },
  {
   "cell_type": "code",
   "execution_count": 28,
   "metadata": {},
   "outputs": [],
   "source": [
    "final_test=data.iloc[3998:,:]"
   ]
  },
  {
   "cell_type": "code",
   "execution_count": 29,
   "metadata": {},
   "outputs": [
    {
     "name": "stdout",
     "output_type": "stream",
     "text": [
      "(3998, 33) (1500, 33)\n"
     ]
    }
   ],
   "source": [
    "print(final_train.shape,final_test.shape)"
   ]
  },
  {
   "cell_type": "code",
   "execution_count": 30,
   "metadata": {},
   "outputs": [],
   "source": [
    "final_train.to_csv('final_train_ttt.csv',index=False)\n",
    "final_test.to_csv('final_test_tt.csv',index=False)"
   ]
  },
  {
   "cell_type": "code",
   "execution_count": 31,
   "metadata": {},
   "outputs": [
    {
     "data": {
      "text/plain": [
       "3.3525"
      ]
     },
     "execution_count": 31,
     "metadata": {},
     "output_type": "execute_result"
    }
   ],
   "source": [
    "data[\"nueroticism\"].max()"
   ]
  },
  {
   "cell_type": "code",
   "execution_count": 32,
   "metadata": {},
   "outputs": [
    {
     "data": {
      "text/plain": [
       "-2.6430000000000002"
      ]
     },
     "execution_count": 32,
     "metadata": {},
     "output_type": "execute_result"
    }
   ],
   "source": [
    "data[\"nueroticism\"].min()"
   ]
  },
  {
   "cell_type": "markdown",
   "metadata": {},
   "source": [
    "### EDA\n",
    "* Convert names in 10board columns in 3 catagories (csbe,icse,state board)"
   ]
  },
  {
   "cell_type": "code",
   "execution_count": 33,
   "metadata": {},
   "outputs": [],
   "source": [
    "# make cbse as uniform thorughout column\n",
    "data['10board'].replace(to_replace='central board of secondary education',value='cbse',inplace=True)\n",
    "data['10board'].replace(to_replace='0',value='NA',inplace=True)"
   ]
  },
  {
   "cell_type": "code",
   "execution_count": 34,
   "metadata": {},
   "outputs": [],
   "source": [
    "# convert other all board except cbse and icse as state board\n",
    "data['10board'].replace(to_replace=data['10board'][(data['10board']!='cbse') & (data['10board']!='icse') & (data['10board']!='NA')].values,value='state board',inplace=True)"
   ]
  },
  {
   "cell_type": "code",
   "execution_count": 35,
   "metadata": {},
   "outputs": [
    {
     "data": {
      "text/plain": [
       "state board    3170\n",
       "cbse           1931\n",
       "icse            397\n",
       "Name: 10board, dtype: int64"
      ]
     },
     "execution_count": 35,
     "metadata": {},
     "output_type": "execute_result"
    }
   ],
   "source": [
    "data['10board'].value_counts()"
   ]
  },
  {
   "cell_type": "code",
   "execution_count": 36,
   "metadata": {},
   "outputs": [],
   "source": [
    "data['12board'].replace(to_replace='central board of secondary education',value='cbse',inplace=True)\n",
    "data['12board'].replace(to_replace='0',value='NA',inplace=True)"
   ]
  },
  {
   "cell_type": "code",
   "execution_count": 37,
   "metadata": {},
   "outputs": [],
   "source": [
    "# convert other all board except cbse and icse as state board\n",
    "data['12board'].replace(to_replace=data['12board'][(data['12board']!='cbse') & (data['12board']!='icse') & (data['12board']!='NA')].values,value='state board',inplace=True)"
   ]
  },
  {
   "cell_type": "code",
   "execution_count": 38,
   "metadata": {},
   "outputs": [
    {
     "data": {
      "text/plain": [
       "state board    3380\n",
       "cbse           1944\n",
       "icse            174\n",
       "Name: 12board, dtype: int64"
      ]
     },
     "execution_count": 38,
     "metadata": {},
     "output_type": "execute_result"
    }
   ],
   "source": [
    "data['12board'].value_counts()"
   ]
  },
  {
   "cell_type": "code",
   "execution_count": 39,
   "metadata": {},
   "outputs": [
    {
     "data": {
      "text/plain": [
       "Index(['Unnamed: 0', 'ID', 'Salary', 'DOJ', 'DOL', 'Designation', 'JobCity',\n",
       "       'Gender', '10percentage', '10board', '12graduation', '12percentage',\n",
       "       '12board', 'CollegeID', 'CollegeTier', 'Degree', 'Specialization',\n",
       "       'collegeGPA', 'CollegeCityID', 'CollegeCityTier', 'CollegeState',\n",
       "       'GraduationYear', 'English', 'Logical', 'Quant', 'Domain',\n",
       "       'conscientiousness', 'agreeableness', 'extraversion', 'nueroticism',\n",
       "       'openess_to_experience', 'Age', 'Mark'],\n",
       "      dtype='object')"
      ]
     },
     "execution_count": 39,
     "metadata": {},
     "output_type": "execute_result"
    }
   ],
   "source": [
    "data.columns"
   ]
  },
  {
   "cell_type": "code",
   "execution_count": 40,
   "metadata": {},
   "outputs": [
    {
     "name": "stdout",
     "output_type": "stream",
     "text": [
      "The unique cities are  1570\n"
     ]
    }
   ],
   "source": [
    "print('The unique cities are ',len(data.CollegeCityID.unique()))"
   ]
  },
  {
   "cell_type": "code",
   "execution_count": 41,
   "metadata": {},
   "outputs": [
    {
     "name": "stdout",
     "output_type": "stream",
     "text": [
      "Students are from 26 different states \n"
     ]
    },
    {
     "data": {
      "text/plain": [
       "Uttar Pradesh     1255\n",
       "Tamil Nadu         516\n",
       "Karnataka          491\n",
       "Telangana          420\n",
       "Maharashtra        351\n",
       "Andhra Pradesh     331\n",
       "West Bengal        274\n",
       "Madhya Pradesh     267\n",
       "Punjab             266\n",
       "Orissa             246\n",
       "Rajasthan          245\n",
       "Haryana            243\n",
       "Delhi              223\n",
       "Other              208\n",
       "Uttarakhand        162\n",
       "Name: CollegeState, dtype: int64"
      ]
     },
     "execution_count": 41,
     "metadata": {},
     "output_type": "execute_result"
    }
   ],
   "source": [
    "print('Students are from 26 different states ')\n",
    "data.CollegeState.value_counts()"
   ]
  },
  {
   "cell_type": "code",
   "execution_count": 42,
   "metadata": {},
   "outputs": [
    {
     "name": "stdout",
     "output_type": "stream",
     "text": [
      "state board    3054\n",
      "cbse           1672\n",
      "icse            365\n",
      "Name: 10board, dtype: int64\n",
      "\n",
      "\n",
      "Series([], Name: CollegeTier, dtype: int64)\n",
      "\n",
      "\n",
      "state board    3258\n",
      "cbse           1668\n",
      "icse            165\n",
      "Name: 12board, dtype: int64\n",
      "\n",
      "\n",
      "Series([], Name: CollegeTier, dtype: int64)\n"
     ]
    }
   ],
   "source": [
    "print(data[data['CollegeTier']==2]['10board'].value_counts())\n",
    "print('\\n')\n",
    "print(data[data['10board']=='NA']['CollegeTier'].value_counts())\n",
    "print('\\n')\n",
    "print(data[data['CollegeTier']==2]['12board'].value_counts())\n",
    "print('\\n')\n",
    "print(data[data['12board']=='NA']['CollegeTier'].value_counts())"
   ]
  },
  {
   "cell_type": "markdown",
   "metadata": {},
   "source": [
    "**IF collegeTier is 2 then probability of its board to be state board is more**"
   ]
  },
  {
   "cell_type": "code",
   "execution_count": 43,
   "metadata": {},
   "outputs": [],
   "source": [
    "data['10board'].replace(to_replace='NA',value='state board',inplace=True)\n",
    "data['12board'].replace(to_replace='NA',value='state board',inplace=True)"
   ]
  },
  {
   "cell_type": "code",
   "execution_count": 44,
   "metadata": {},
   "outputs": [
    {
     "name": "stdout",
     "output_type": "stream",
     "text": [
      "10 Board \n",
      " \n",
      " state board    3170\n",
      "cbse           1931\n",
      "icse            397\n",
      "Name: 10board, dtype: int64\n",
      "\n",
      "\n",
      "12 Board \n",
      " \n",
      " state board    3380\n",
      "cbse           1944\n",
      "icse            174\n",
      "Name: 12board, dtype: int64\n"
     ]
    }
   ],
   "source": [
    "print('10 Board','\\n','\\n',data['10board'].value_counts())\n",
    "print('\\n')\n",
    "print('12 Board','\\n','\\n',data['12board'].value_counts())"
   ]
  },
  {
   "cell_type": "code",
   "execution_count": 45,
   "metadata": {},
   "outputs": [
    {
     "data": {
      "text/plain": [
       "Index(['Unnamed: 0', 'ID', 'Salary', 'DOJ', 'DOL', 'Designation', 'JobCity',\n",
       "       'Gender', '10percentage', '10board', '12graduation', '12percentage',\n",
       "       '12board', 'CollegeID', 'CollegeTier', 'Degree', 'Specialization',\n",
       "       'collegeGPA', 'CollegeCityID', 'CollegeCityTier', 'CollegeState',\n",
       "       'GraduationYear', 'English', 'Logical', 'Quant', 'Domain',\n",
       "       'conscientiousness', 'agreeableness', 'extraversion', 'nueroticism',\n",
       "       'openess_to_experience', 'Age', 'Mark'],\n",
       "      dtype='object')"
      ]
     },
     "execution_count": 45,
     "metadata": {},
     "output_type": "execute_result"
    }
   ],
   "source": [
    "data.columns"
   ]
  },
  {
   "cell_type": "code",
   "execution_count": 46,
   "metadata": {},
   "outputs": [
    {
     "name": "stdout",
     "output_type": "stream",
     "text": [
      "The unique cities are  1570\n"
     ]
    }
   ],
   "source": [
    "print('The unique cities are ',len(data.CollegeCityID.unique()))"
   ]
  },
  {
   "cell_type": "code",
   "execution_count": 47,
   "metadata": {},
   "outputs": [
    {
     "name": "stdout",
     "output_type": "stream",
     "text": [
      "Students are from  15 different states \n"
     ]
    }
   ],
   "source": [
    "print('Students are from ', len(data.CollegeState.value_counts()), 'different states ')\n"
   ]
  },
  {
   "cell_type": "code",
   "execution_count": 48,
   "metadata": {},
   "outputs": [
    {
     "data": {
      "application/javascript": [
       "\n",
       "        if (window._pyforest_update_imports_cell) { window._pyforest_update_imports_cell('import numpy as np\\nimport matplotlib.pyplot as plt\\nimport pandas as pd'); }\n",
       "    "
      ],
      "text/plain": [
       "<IPython.core.display.Javascript object>"
      ]
     },
     "metadata": {},
     "output_type": "display_data"
    },
    {
     "data": {
      "application/javascript": [
       "\n",
       "        if (window._pyforest_update_imports_cell) { window._pyforest_update_imports_cell('import numpy as np\\nimport matplotlib.pyplot as plt\\nimport pandas as pd'); }\n",
       "    "
      ],
      "text/plain": [
       "<IPython.core.display.Javascript object>"
      ]
     },
     "metadata": {},
     "output_type": "display_data"
    },
    {
     "data": {
      "text/plain": [
       "<Figure size 1500x1500 with 1 Axes>"
      ]
     },
     "metadata": {},
     "output_type": "display_data"
    }
   ],
   "source": [
    "plt.figure(figsize=(15,15))\n",
    "data.CollegeState.value_counts().plot(kind='bar')\n",
    "plt.show()"
   ]
  },
  {
   "cell_type": "code",
   "execution_count": 49,
   "metadata": {},
   "outputs": [
    {
     "data": {
      "application/javascript": [
       "\n",
       "        if (window._pyforest_update_imports_cell) { window._pyforest_update_imports_cell('import numpy as np\\nimport matplotlib.pyplot as plt\\nimport pandas as pd'); }\n",
       "    "
      ],
      "text/plain": [
       "<IPython.core.display.Javascript object>"
      ]
     },
     "metadata": {},
     "output_type": "display_data"
    },
    {
     "data": {
      "application/javascript": [
       "\n",
       "        if (window._pyforest_update_imports_cell) { window._pyforest_update_imports_cell('import numpy as np\\nimport matplotlib.pyplot as plt\\nimport pandas as pd'); }\n",
       "    "
      ],
      "text/plain": [
       "<IPython.core.display.Javascript object>"
      ]
     },
     "metadata": {},
     "output_type": "display_data"
    },
    {
     "data": {
      "image/png": "[encoded data removed]",
      "text/plain": [
       "<Figure size 576x576 with 1 Axes>"
      ]
     },
     "metadata": {
      "needs_background": "light"
     },
     "output_type": "display_data"
    }
   ],
   "source": [
    "plt.figure(figsize=(8,8))\n",
    "data.Degree.value_counts().plot(kind='bar')\n",
    "plt.show()\n",
    "#'Specialization'"
   ]
  },
  {
   "cell_type": "code",
   "execution_count": 50,
   "metadata": {},
   "outputs": [
    {
     "data": {
      "application/javascript": [
       "\n",
       "        if (window._pyforest_update_imports_cell) { window._pyforest_update_imports_cell('import numpy as np\\nimport matplotlib.pyplot as plt\\nimport pandas as pd'); }\n",
       "    "
      ],
      "text/plain": [
       "<IPython.core.display.Javascript object>"
      ]
     },
     "metadata": {},
     "output_type": "display_data"
    },
    {
     "data": {
      "application/javascript": [
       "\n",
       "        if (window._pyforest_update_imports_cell) { window._pyforest_update_imports_cell('import numpy as np\\nimport matplotlib.pyplot as plt\\nimport pandas as pd'); }\n",
       "    "
      ],
      "text/plain": [
       "<IPython.core.display.Javascript object>"
      ]
     },
     "metadata": {},
     "output_type": "display_data"
    },
    {
     "data": {
      "image/png": "[encoded data removed]",
      "text/plain": [
       "<Figure size 576x576 with 1 Axes>"
      ]
     },
     "metadata": {
      "needs_background": "light"
     },
     "output_type": "display_data"
    }
   ],
   "source": [
    "plt.figure(figsize=(8,8))\n",
    "data.Specialization.value_counts().plot(kind='bar')\n",
    "plt.show()"
   ]
  },
  {
   "cell_type": "code",
   "execution_count": 51,
   "metadata": {},
   "outputs": [
    {
     "data": {
      "text/plain": [
       "Index(['Unnamed: 0', 'ID', 'Salary', 'DOJ', 'DOL', 'Designation', 'JobCity',\n",
       "       'Gender', '10percentage', '10board', '12graduation', '12percentage',\n",
       "       '12board', 'CollegeID', 'CollegeTier', 'Degree', 'Specialization',\n",
       "       'collegeGPA', 'CollegeCityID', 'CollegeCityTier', 'CollegeState',\n",
       "       'GraduationYear', 'English', 'Logical', 'Quant', 'Domain',\n",
       "       'conscientiousness', 'agreeableness', 'extraversion', 'nueroticism',\n",
       "       'openess_to_experience', 'Age', 'Mark'],\n",
       "      dtype='object')"
      ]
     },
     "execution_count": 51,
     "metadata": {},
     "output_type": "execute_result"
    }
   ],
   "source": [
    "data.columns"
   ]
  },
  {
   "cell_type": "code",
   "execution_count": 52,
   "metadata": {},
   "outputs": [
    {
     "data": {
      "application/javascript": [
       "\n",
       "        if (window._pyforest_update_imports_cell) { window._pyforest_update_imports_cell('import numpy as np\\nimport matplotlib.pyplot as plt\\nimport pandas as pd'); }\n",
       "    "
      ],
      "text/plain": [
       "<IPython.core.display.Javascript object>"
      ]
     },
     "metadata": {},
     "output_type": "display_data"
    },
    {
     "data": {
      "image/png": "[encoded data removed]",
      "text/plain": [
       "<Figure size 432x288 with 1 Axes>"
      ]
     },
     "metadata": {
      "needs_background": "light"
     },
     "output_type": "display_data"
    }
   ],
   "source": [
    "data[data['Specialization']=='mechanical engineering']['Gender'].value_counts().plot(kind='bar')\n",
    "plt.show()"
   ]
  },
  {
   "cell_type": "code",
   "execution_count": 53,
   "metadata": {},
   "outputs": [
    {
     "data": {
      "application/javascript": [
       "\n",
       "        if (window._pyforest_update_imports_cell) { window._pyforest_update_imports_cell('import numpy as np\\nimport matplotlib.pyplot as plt\\nimport pandas as pd'); }\n",
       "    "
      ],
      "text/plain": [
       "<IPython.core.display.Javascript object>"
      ]
     },
     "metadata": {},
     "output_type": "display_data"
    },
    {
     "data": {
      "image/png": "[encoded data removed]",
      "text/plain": [
       "<Figure size 432x288 with 1 Axes>"
      ]
     },
     "metadata": {
      "needs_background": "light"
     },
     "output_type": "display_data"
    }
   ],
   "source": [
    "data[data['Specialization']=='civil engineering']['Gender'].value_counts().plot(kind='bar')\n",
    "plt.show()"
   ]
  },
  {
   "cell_type": "code",
   "execution_count": 54,
   "metadata": {},
   "outputs": [
    {
     "data": {
      "text/plain": [
       "<matplotlib.axes._subplots.AxesSubplot at 0x91f40086c8>"
      ]
     },
     "execution_count": 54,
     "metadata": {},
     "output_type": "execute_result"
    },
    {
     "data": {
      "image/png": "[encoded data removed]",
      "text/plain": [
       "<Figure size 432x288 with 1 Axes>"
      ]
     },
     "metadata": {
      "needs_background": "light"
     },
     "output_type": "display_data"
    }
   ],
   "source": [
    "\n",
    "data[data['Specialization']=='computer science & engineering']['Gender'].value_counts().plot(kind='bar')\n"
   ]
  },
  {
   "cell_type": "code",
   "execution_count": 55,
   "metadata": {},
   "outputs": [
    {
     "data": {
      "text/plain": [
       "<matplotlib.axes._subplots.AxesSubplot at 0x91f4085fc8>"
      ]
     },
     "execution_count": 55,
     "metadata": {},
     "output_type": "execute_result"
    },
    {
     "data": {
      "image/png": "[encoded data removed]",
      "text/plain": [
       "<Figure size 432x288 with 1 Axes>"
      ]
     },
     "metadata": {
      "needs_background": "light"
     },
     "output_type": "display_data"
    }
   ],
   "source": [
    "data[data['Specialization']=='electronics and communication engineering']['Gender'].value_counts().plot(kind='bar')\n",
    "#plt.show()"
   ]
  },
  {
   "cell_type": "code",
   "execution_count": 56,
   "metadata": {},
   "outputs": [
    {
     "data": {
      "text/plain": [
       "electronics and communication engineering      1210\n",
       "computer science & engineering                 1027\n",
       "information technology                          901\n",
       "computer engineering                            838\n",
       "computer application                            314\n",
       "electronics and electrical engineering          281\n",
       "mechanical engineering                          271\n",
       "Other                                           171\n",
       "electronics & telecommunications                163\n",
       "electrical engineering                          108\n",
       "civil engineering                                44\n",
       "electronics & instrumentation eng                42\n",
       "electronics and instrumentation engineering      39\n",
       "information science engineering                  34\n",
       "electronics engineering                          29\n",
       "instrumentation and control engineering          26\n",
       "Name: Specialization, dtype: int64"
      ]
     },
     "execution_count": 56,
     "metadata": {},
     "output_type": "execute_result"
    }
   ],
   "source": [
    "data.Specialization.value_counts()"
   ]
  },
  {
   "cell_type": "code",
   "execution_count": 57,
   "metadata": {},
   "outputs": [
    {
     "data": {
      "application/javascript": [
       "\n",
       "        if (window._pyforest_update_imports_cell) { window._pyforest_update_imports_cell('import numpy as np\\nimport matplotlib.pyplot as plt\\nimport pandas as pd'); }\n",
       "    "
      ],
      "text/plain": [
       "<IPython.core.display.Javascript object>"
      ]
     },
     "metadata": {},
     "output_type": "display_data"
    },
    {
     "data": {
      "application/javascript": [
       "\n",
       "        if (window._pyforest_update_imports_cell) { window._pyforest_update_imports_cell('import numpy as np\\nimport matplotlib.pyplot as plt\\nimport pandas as pd'); }\n",
       "    "
      ],
      "text/plain": [
       "<IPython.core.display.Javascript object>"
      ]
     },
     "metadata": {},
     "output_type": "display_data"
    }
   ],
   "source": [
    "train=pd.read_csv('final_train.csv')\n",
    "test=pd.read_csv('final_test.csv')"
   ]
  },
  {
   "cell_type": "code",
   "execution_count": 58,
   "metadata": {},
   "outputs": [
    {
     "data": {
      "text/html": [
       "<div>\n",
       "<style scoped>\n",
       "    .dataframe tbody tr th:only-of-type {\n",
       "        vertical-align: middle;\n",
       "    }\n",
       "\n",
       "    .dataframe tbody tr th {\n",
       "        vertical-align: top;\n",
       "    }\n",
       "\n",
       "    .dataframe thead th {\n",
       "        text-align: right;\n",
       "    }\n",
       "</style>\n",
       "<table border=\"1\" class=\"dataframe\">\n",
       "  <thead>\n",
       "    <tr style=\"text-align: right;\">\n",
       "      <th></th>\n",
       "      <th>Salary</th>\n",
       "      <th>Gender</th>\n",
       "      <th>10percentage</th>\n",
       "      <th>10board</th>\n",
       "      <th>12graduation</th>\n",
       "      <th>12percentage</th>\n",
       "      <th>12board</th>\n",
       "      <th>CollegeID</th>\n",
       "      <th>CollegeTier</th>\n",
       "      <th>Degree</th>\n",
       "      <th>...</th>\n",
       "      <th>Logical</th>\n",
       "      <th>Quant</th>\n",
       "      <th>Domain</th>\n",
       "      <th>conscientiousness</th>\n",
       "      <th>agreeableness</th>\n",
       "      <th>extraversion</th>\n",
       "      <th>nueroticism</th>\n",
       "      <th>openess_to_experience</th>\n",
       "      <th>Age</th>\n",
       "      <th>Mark</th>\n",
       "    </tr>\n",
       "  </thead>\n",
       "  <tbody>\n",
       "    <tr>\n",
       "      <td>0</td>\n",
       "      <td>420000.0</td>\n",
       "      <td>f</td>\n",
       "      <td>84.3</td>\n",
       "      <td>state board</td>\n",
       "      <td>2007</td>\n",
       "      <td>95.8</td>\n",
       "      <td>state board</td>\n",
       "      <td>1141</td>\n",
       "      <td>2</td>\n",
       "      <td>B.Tech/B.E.</td>\n",
       "      <td>...</td>\n",
       "      <td>585</td>\n",
       "      <td>525</td>\n",
       "      <td>0.635979</td>\n",
       "      <td>0.9737</td>\n",
       "      <td>0.8128</td>\n",
       "      <td>0.5269</td>\n",
       "      <td>1.35490</td>\n",
       "      <td>-0.4455</td>\n",
       "      <td>29</td>\n",
       "      <td>445</td>\n",
       "    </tr>\n",
       "    <tr>\n",
       "      <td>1</td>\n",
       "      <td>500000.0</td>\n",
       "      <td>m</td>\n",
       "      <td>85.4</td>\n",
       "      <td>cbse</td>\n",
       "      <td>2007</td>\n",
       "      <td>85.0</td>\n",
       "      <td>cbse</td>\n",
       "      <td>5807</td>\n",
       "      <td>2</td>\n",
       "      <td>B.Tech/B.E.</td>\n",
       "      <td>...</td>\n",
       "      <td>610</td>\n",
       "      <td>780</td>\n",
       "      <td>0.960603</td>\n",
       "      <td>-0.7335</td>\n",
       "      <td>0.3789</td>\n",
       "      <td>1.2396</td>\n",
       "      <td>-0.10760</td>\n",
       "      <td>0.8637</td>\n",
       "      <td>30</td>\n",
       "      <td>466</td>\n",
       "    </tr>\n",
       "    <tr>\n",
       "      <td>2</td>\n",
       "      <td>325000.0</td>\n",
       "      <td>f</td>\n",
       "      <td>85.0</td>\n",
       "      <td>cbse</td>\n",
       "      <td>2010</td>\n",
       "      <td>68.2</td>\n",
       "      <td>cbse</td>\n",
       "      <td>64</td>\n",
       "      <td>2</td>\n",
       "      <td>B.Tech/B.E.</td>\n",
       "      <td>...</td>\n",
       "      <td>545</td>\n",
       "      <td>370</td>\n",
       "      <td>0.450877</td>\n",
       "      <td>0.2718</td>\n",
       "      <td>1.7109</td>\n",
       "      <td>0.1637</td>\n",
       "      <td>-0.86820</td>\n",
       "      <td>0.6721</td>\n",
       "      <td>27</td>\n",
       "      <td>395</td>\n",
       "    </tr>\n",
       "    <tr>\n",
       "      <td>3</td>\n",
       "      <td>1100000.0</td>\n",
       "      <td>m</td>\n",
       "      <td>85.6</td>\n",
       "      <td>cbse</td>\n",
       "      <td>2007</td>\n",
       "      <td>83.6</td>\n",
       "      <td>cbse</td>\n",
       "      <td>6920</td>\n",
       "      <td>1</td>\n",
       "      <td>B.Tech/B.E.</td>\n",
       "      <td>...</td>\n",
       "      <td>585</td>\n",
       "      <td>625</td>\n",
       "      <td>0.974396</td>\n",
       "      <td>0.0464</td>\n",
       "      <td>0.3448</td>\n",
       "      <td>-0.3440</td>\n",
       "      <td>-0.40780</td>\n",
       "      <td>-0.9194</td>\n",
       "      <td>30</td>\n",
       "      <td>615</td>\n",
       "    </tr>\n",
       "    <tr>\n",
       "      <td>4</td>\n",
       "      <td>200000.0</td>\n",
       "      <td>m</td>\n",
       "      <td>78.0</td>\n",
       "      <td>cbse</td>\n",
       "      <td>2008</td>\n",
       "      <td>76.8</td>\n",
       "      <td>cbse</td>\n",
       "      <td>11368</td>\n",
       "      <td>2</td>\n",
       "      <td>B.Tech/B.E.</td>\n",
       "      <td>...</td>\n",
       "      <td>625</td>\n",
       "      <td>465</td>\n",
       "      <td>0.124502</td>\n",
       "      <td>-0.8810</td>\n",
       "      <td>-0.2793</td>\n",
       "      <td>-1.0697</td>\n",
       "      <td>0.09163</td>\n",
       "      <td>-0.1295</td>\n",
       "      <td>28</td>\n",
       "      <td>233</td>\n",
       "    </tr>\n",
       "  </tbody>\n",
       "</table>\n",
       "<p>5 rows × 27 columns</p>\n",
       "</div>"
      ],
      "text/plain": [
       "      Salary Gender  10percentage      10board  12graduation  12percentage  \\\n",
       "0   420000.0      f          84.3  state board          2007          95.8   \n",
       "1   500000.0      m          85.4         cbse          2007          85.0   \n",
       "2   325000.0      f          85.0         cbse          2010          68.2   \n",
       "3  1100000.0      m          85.6         cbse          2007          83.6   \n",
       "4   200000.0      m          78.0         cbse          2008          76.8   \n",
       "\n",
       "       12board  CollegeID  CollegeTier       Degree  ... Logical  Quant  \\\n",
       "0  state board       1141            2  B.Tech/B.E.  ...     585    525   \n",
       "1         cbse       5807            2  B.Tech/B.E.  ...     610    780   \n",
       "2         cbse         64            2  B.Tech/B.E.  ...     545    370   \n",
       "3         cbse       6920            1  B.Tech/B.E.  ...     585    625   \n",
       "4         cbse      11368            2  B.Tech/B.E.  ...     625    465   \n",
       "\n",
       "     Domain  conscientiousness agreeableness  extraversion  nueroticism  \\\n",
       "0  0.635979             0.9737        0.8128        0.5269      1.35490   \n",
       "1  0.960603            -0.7335        0.3789        1.2396     -0.10760   \n",
       "2  0.450877             0.2718        1.7109        0.1637     -0.86820   \n",
       "3  0.974396             0.0464        0.3448       -0.3440     -0.40780   \n",
       "4  0.124502            -0.8810       -0.2793       -1.0697      0.09163   \n",
       "\n",
       "   openess_to_experience  Age  Mark  \n",
       "0                -0.4455   29   445  \n",
       "1                 0.8637   30   466  \n",
       "2                 0.6721   27   395  \n",
       "3                -0.9194   30   615  \n",
       "4                -0.1295   28   233  \n",
       "\n",
       "[5 rows x 27 columns]"
      ]
     },
     "execution_count": 58,
     "metadata": {},
     "output_type": "execute_result"
    }
   ],
   "source": [
    "train.head()"
   ]
  },
  {
   "cell_type": "code",
   "execution_count": 59,
   "metadata": {},
   "outputs": [
    {
     "data": {
      "text/html": [
       "<div>\n",
       "<style scoped>\n",
       "    .dataframe tbody tr th:only-of-type {\n",
       "        vertical-align: middle;\n",
       "    }\n",
       "\n",
       "    .dataframe tbody tr th {\n",
       "        vertical-align: top;\n",
       "    }\n",
       "\n",
       "    .dataframe thead th {\n",
       "        text-align: right;\n",
       "    }\n",
       "</style>\n",
       "<table border=\"1\" class=\"dataframe\">\n",
       "  <thead>\n",
       "    <tr style=\"text-align: right;\">\n",
       "      <th></th>\n",
       "      <th>Salary</th>\n",
       "      <th>Gender</th>\n",
       "      <th>10percentage</th>\n",
       "      <th>10board</th>\n",
       "      <th>12graduation</th>\n",
       "      <th>12percentage</th>\n",
       "      <th>12board</th>\n",
       "      <th>CollegeID</th>\n",
       "      <th>CollegeTier</th>\n",
       "      <th>Degree</th>\n",
       "      <th>...</th>\n",
       "      <th>Logical</th>\n",
       "      <th>Quant</th>\n",
       "      <th>Domain</th>\n",
       "      <th>conscientiousness</th>\n",
       "      <th>agreeableness</th>\n",
       "      <th>extraversion</th>\n",
       "      <th>nueroticism</th>\n",
       "      <th>openess_to_experience</th>\n",
       "      <th>Age</th>\n",
       "      <th>Mark</th>\n",
       "    </tr>\n",
       "  </thead>\n",
       "  <tbody>\n",
       "    <tr>\n",
       "      <td>0</td>\n",
       "      <td>?</td>\n",
       "      <td>m</td>\n",
       "      <td>75.0</td>\n",
       "      <td>cbse</td>\n",
       "      <td>2009</td>\n",
       "      <td>74.0</td>\n",
       "      <td>cbse</td>\n",
       "      <td>13478</td>\n",
       "      <td>2</td>\n",
       "      <td>B.Tech/B.E.</td>\n",
       "      <td>...</td>\n",
       "      <td>460</td>\n",
       "      <td>620</td>\n",
       "      <td>0.229482</td>\n",
       "      <td>0.2718</td>\n",
       "      <td>-0.2871</td>\n",
       "      <td>0.4711</td>\n",
       "      <td>-0.7415</td>\n",
       "      <td>-0.4776</td>\n",
       "      <td>27</td>\n",
       "      <td>385</td>\n",
       "    </tr>\n",
       "    <tr>\n",
       "      <td>1</td>\n",
       "      <td>?</td>\n",
       "      <td>m</td>\n",
       "      <td>83.0</td>\n",
       "      <td>state board</td>\n",
       "      <td>2009</td>\n",
       "      <td>75.0</td>\n",
       "      <td>state board</td>\n",
       "      <td>65</td>\n",
       "      <td>2</td>\n",
       "      <td>B.Tech/B.E.</td>\n",
       "      <td>...</td>\n",
       "      <td>605</td>\n",
       "      <td>655</td>\n",
       "      <td>0.080055</td>\n",
       "      <td>0.7027</td>\n",
       "      <td>0.2124</td>\n",
       "      <td>1.2396</td>\n",
       "      <td>-0.8682</td>\n",
       "      <td>1.0554</td>\n",
       "      <td>27</td>\n",
       "      <td>545</td>\n",
       "    </tr>\n",
       "    <tr>\n",
       "      <td>2</td>\n",
       "      <td>?</td>\n",
       "      <td>f</td>\n",
       "      <td>85.2</td>\n",
       "      <td>cbse</td>\n",
       "      <td>2010</td>\n",
       "      <td>91.4</td>\n",
       "      <td>state board</td>\n",
       "      <td>3505</td>\n",
       "      <td>2</td>\n",
       "      <td>B.Tech/B.E.</td>\n",
       "      <td>...</td>\n",
       "      <td>690</td>\n",
       "      <td>655</td>\n",
       "      <td>0.990009</td>\n",
       "      <td>0.1282</td>\n",
       "      <td>1.0449</td>\n",
       "      <td>-0.6048</td>\n",
       "      <td>-1.6289</td>\n",
       "      <td>-0.8608</td>\n",
       "      <td>27</td>\n",
       "      <td>655</td>\n",
       "    </tr>\n",
       "    <tr>\n",
       "      <td>3</td>\n",
       "      <td>?</td>\n",
       "      <td>f</td>\n",
       "      <td>81.8</td>\n",
       "      <td>state board</td>\n",
       "      <td>2010</td>\n",
       "      <td>80.8</td>\n",
       "      <td>state board</td>\n",
       "      <td>3931</td>\n",
       "      <td>2</td>\n",
       "      <td>B.Tech/B.E.</td>\n",
       "      <td>...</td>\n",
       "      <td>455</td>\n",
       "      <td>415</td>\n",
       "      <td>0.842248</td>\n",
       "      <td>0.4155</td>\n",
       "      <td>1.0449</td>\n",
       "      <td>-0.6048</td>\n",
       "      <td>1.5404</td>\n",
       "      <td>1.0554</td>\n",
       "      <td>29</td>\n",
       "      <td>535</td>\n",
       "    </tr>\n",
       "    <tr>\n",
       "      <td>4</td>\n",
       "      <td>?</td>\n",
       "      <td>m</td>\n",
       "      <td>78.0</td>\n",
       "      <td>cbse</td>\n",
       "      <td>2007</td>\n",
       "      <td>78.0</td>\n",
       "      <td>cbse</td>\n",
       "      <td>7564</td>\n",
       "      <td>2</td>\n",
       "      <td>B.Tech/B.E.</td>\n",
       "      <td>...</td>\n",
       "      <td>395</td>\n",
       "      <td>435</td>\n",
       "      <td>0.864685</td>\n",
       "      <td>0.0464</td>\n",
       "      <td>0.0328</td>\n",
       "      <td>-0.0537</td>\n",
       "      <td>0.0623</td>\n",
       "      <td>0.6603</td>\n",
       "      <td>29</td>\n",
       "      <td>525</td>\n",
       "    </tr>\n",
       "  </tbody>\n",
       "</table>\n",
       "<p>5 rows × 27 columns</p>\n",
       "</div>"
      ],
      "text/plain": [
       "  Salary Gender  10percentage      10board  12graduation  12percentage  \\\n",
       "0      ?      m          75.0         cbse          2009          74.0   \n",
       "1      ?      m          83.0  state board          2009          75.0   \n",
       "2      ?      f          85.2         cbse          2010          91.4   \n",
       "3      ?      f          81.8  state board          2010          80.8   \n",
       "4      ?      m          78.0         cbse          2007          78.0   \n",
       "\n",
       "       12board  CollegeID  CollegeTier       Degree  ... Logical  Quant  \\\n",
       "0         cbse      13478            2  B.Tech/B.E.  ...     460    620   \n",
       "1  state board         65            2  B.Tech/B.E.  ...     605    655   \n",
       "2  state board       3505            2  B.Tech/B.E.  ...     690    655   \n",
       "3  state board       3931            2  B.Tech/B.E.  ...     455    415   \n",
       "4         cbse       7564            2  B.Tech/B.E.  ...     395    435   \n",
       "\n",
       "     Domain  conscientiousness agreeableness  extraversion  nueroticism  \\\n",
       "0  0.229482             0.2718       -0.2871        0.4711      -0.7415   \n",
       "1  0.080055             0.7027        0.2124        1.2396      -0.8682   \n",
       "2  0.990009             0.1282        1.0449       -0.6048      -1.6289   \n",
       "3  0.842248             0.4155        1.0449       -0.6048       1.5404   \n",
       "4  0.864685             0.0464        0.0328       -0.0537       0.0623   \n",
       "\n",
       "   openess_to_experience  Age  Mark  \n",
       "0                -0.4776   27   385  \n",
       "1                 1.0554   27   545  \n",
       "2                -0.8608   27   655  \n",
       "3                 1.0554   29   535  \n",
       "4                 0.6603   29   525  \n",
       "\n",
       "[5 rows x 27 columns]"
      ]
     },
     "execution_count": 59,
     "metadata": {},
     "output_type": "execute_result"
    }
   ],
   "source": [
    "test.head()"
   ]
  },
  {
   "cell_type": "code",
   "execution_count": 60,
   "metadata": {},
   "outputs": [
    {
     "data": {
      "application/javascript": [
       "\n",
       "        if (window._pyforest_update_imports_cell) { window._pyforest_update_imports_cell('import numpy as np\\nimport matplotlib.pyplot as plt\\nimport pandas as pd'); }\n",
       "    "
      ],
      "text/plain": [
       "<IPython.core.display.Javascript object>"
      ]
     },
     "metadata": {},
     "output_type": "display_data"
    },
    {
     "data": {
      "text/html": [
       "<div>\n",
       "<style scoped>\n",
       "    .dataframe tbody tr th:only-of-type {\n",
       "        vertical-align: middle;\n",
       "    }\n",
       "\n",
       "    .dataframe tbody tr th {\n",
       "        vertical-align: top;\n",
       "    }\n",
       "\n",
       "    .dataframe thead th {\n",
       "        text-align: right;\n",
       "    }\n",
       "</style>\n",
       "<table border=\"1\" class=\"dataframe\">\n",
       "  <thead>\n",
       "    <tr style=\"text-align: right;\">\n",
       "      <th></th>\n",
       "      <th>Salary</th>\n",
       "      <th>10percentage</th>\n",
       "      <th>12graduation</th>\n",
       "      <th>12percentage</th>\n",
       "      <th>CollegeID</th>\n",
       "      <th>CollegeTier</th>\n",
       "      <th>collegeGPA</th>\n",
       "      <th>CollegeCityID</th>\n",
       "      <th>CollegeCityTier</th>\n",
       "      <th>GraduationYear</th>\n",
       "      <th>...</th>\n",
       "      <th>CollegeState_Maharashtra</th>\n",
       "      <th>CollegeState_Orissa</th>\n",
       "      <th>CollegeState_Other</th>\n",
       "      <th>CollegeState_Punjab</th>\n",
       "      <th>CollegeState_Rajasthan</th>\n",
       "      <th>CollegeState_Tamil Nadu</th>\n",
       "      <th>CollegeState_Telangana</th>\n",
       "      <th>CollegeState_Uttar Pradesh</th>\n",
       "      <th>CollegeState_Uttarakhand</th>\n",
       "      <th>CollegeState_West Bengal</th>\n",
       "    </tr>\n",
       "  </thead>\n",
       "  <tbody>\n",
       "    <tr>\n",
       "      <td>0</td>\n",
       "      <td>420000.0</td>\n",
       "      <td>84.3</td>\n",
       "      <td>2007</td>\n",
       "      <td>95.8</td>\n",
       "      <td>1141</td>\n",
       "      <td>2</td>\n",
       "      <td>78.00</td>\n",
       "      <td>1141</td>\n",
       "      <td>0</td>\n",
       "      <td>2011</td>\n",
       "      <td>...</td>\n",
       "      <td>0</td>\n",
       "      <td>0</td>\n",
       "      <td>0</td>\n",
       "      <td>0</td>\n",
       "      <td>0</td>\n",
       "      <td>0</td>\n",
       "      <td>0</td>\n",
       "      <td>0</td>\n",
       "      <td>0</td>\n",
       "      <td>0</td>\n",
       "    </tr>\n",
       "    <tr>\n",
       "      <td>1</td>\n",
       "      <td>500000.0</td>\n",
       "      <td>85.4</td>\n",
       "      <td>2007</td>\n",
       "      <td>85.0</td>\n",
       "      <td>5807</td>\n",
       "      <td>2</td>\n",
       "      <td>70.06</td>\n",
       "      <td>5807</td>\n",
       "      <td>0</td>\n",
       "      <td>2012</td>\n",
       "      <td>...</td>\n",
       "      <td>0</td>\n",
       "      <td>0</td>\n",
       "      <td>0</td>\n",
       "      <td>0</td>\n",
       "      <td>0</td>\n",
       "      <td>0</td>\n",
       "      <td>0</td>\n",
       "      <td>0</td>\n",
       "      <td>0</td>\n",
       "      <td>0</td>\n",
       "    </tr>\n",
       "    <tr>\n",
       "      <td>2</td>\n",
       "      <td>325000.0</td>\n",
       "      <td>85.0</td>\n",
       "      <td>2010</td>\n",
       "      <td>68.2</td>\n",
       "      <td>64</td>\n",
       "      <td>2</td>\n",
       "      <td>70.00</td>\n",
       "      <td>64</td>\n",
       "      <td>0</td>\n",
       "      <td>2014</td>\n",
       "      <td>...</td>\n",
       "      <td>0</td>\n",
       "      <td>0</td>\n",
       "      <td>0</td>\n",
       "      <td>0</td>\n",
       "      <td>0</td>\n",
       "      <td>0</td>\n",
       "      <td>0</td>\n",
       "      <td>1</td>\n",
       "      <td>0</td>\n",
       "      <td>0</td>\n",
       "    </tr>\n",
       "    <tr>\n",
       "      <td>3</td>\n",
       "      <td>1100000.0</td>\n",
       "      <td>85.6</td>\n",
       "      <td>2007</td>\n",
       "      <td>83.6</td>\n",
       "      <td>6920</td>\n",
       "      <td>1</td>\n",
       "      <td>74.64</td>\n",
       "      <td>6920</td>\n",
       "      <td>1</td>\n",
       "      <td>2011</td>\n",
       "      <td>...</td>\n",
       "      <td>0</td>\n",
       "      <td>0</td>\n",
       "      <td>0</td>\n",
       "      <td>0</td>\n",
       "      <td>0</td>\n",
       "      <td>0</td>\n",
       "      <td>0</td>\n",
       "      <td>0</td>\n",
       "      <td>0</td>\n",
       "      <td>0</td>\n",
       "    </tr>\n",
       "    <tr>\n",
       "      <td>4</td>\n",
       "      <td>200000.0</td>\n",
       "      <td>78.0</td>\n",
       "      <td>2008</td>\n",
       "      <td>76.8</td>\n",
       "      <td>11368</td>\n",
       "      <td>2</td>\n",
       "      <td>73.90</td>\n",
       "      <td>11368</td>\n",
       "      <td>0</td>\n",
       "      <td>2012</td>\n",
       "      <td>...</td>\n",
       "      <td>0</td>\n",
       "      <td>0</td>\n",
       "      <td>0</td>\n",
       "      <td>0</td>\n",
       "      <td>0</td>\n",
       "      <td>0</td>\n",
       "      <td>0</td>\n",
       "      <td>1</td>\n",
       "      <td>0</td>\n",
       "      <td>0</td>\n",
       "    </tr>\n",
       "  </tbody>\n",
       "</table>\n",
       "<p>5 rows × 64 columns</p>\n",
       "</div>"
      ],
      "text/plain": [
       "      Salary  10percentage  12graduation  12percentage  CollegeID  \\\n",
       "0   420000.0          84.3          2007          95.8       1141   \n",
       "1   500000.0          85.4          2007          85.0       5807   \n",
       "2   325000.0          85.0          2010          68.2         64   \n",
       "3  1100000.0          85.6          2007          83.6       6920   \n",
       "4   200000.0          78.0          2008          76.8      11368   \n",
       "\n",
       "   CollegeTier  collegeGPA  CollegeCityID  CollegeCityTier  GraduationYear  \\\n",
       "0            2       78.00           1141                0            2011   \n",
       "1            2       70.06           5807                0            2012   \n",
       "2            2       70.00             64                0            2014   \n",
       "3            1       74.64           6920                1            2011   \n",
       "4            2       73.90          11368                0            2012   \n",
       "\n",
       "   ...  CollegeState_Maharashtra  CollegeState_Orissa  CollegeState_Other  \\\n",
       "0  ...                         0                    0                   0   \n",
       "1  ...                         0                    0                   0   \n",
       "2  ...                         0                    0                   0   \n",
       "3  ...                         0                    0                   0   \n",
       "4  ...                         0                    0                   0   \n",
       "\n",
       "   CollegeState_Punjab  CollegeState_Rajasthan  CollegeState_Tamil Nadu  \\\n",
       "0                    0                       0                        0   \n",
       "1                    0                       0                        0   \n",
       "2                    0                       0                        0   \n",
       "3                    0                       0                        0   \n",
       "4                    0                       0                        0   \n",
       "\n",
       "   CollegeState_Telangana  CollegeState_Uttar Pradesh  \\\n",
       "0                       0                           0   \n",
       "1                       0                           0   \n",
       "2                       0                           1   \n",
       "3                       0                           0   \n",
       "4                       0                           1   \n",
       "\n",
       "   CollegeState_Uttarakhand  CollegeState_West Bengal  \n",
       "0                         0                         0  \n",
       "1                         0                         0  \n",
       "2                         0                         0  \n",
       "3                         0                         0  \n",
       "4                         0                         0  \n",
       "\n",
       "[5 rows x 64 columns]"
      ]
     },
     "execution_count": 60,
     "metadata": {},
     "output_type": "execute_result"
    }
   ],
   "source": [
    "num_data=pd.get_dummies(train)\n",
    "num_data.head()"
   ]
  },
  {
   "cell_type": "code",
   "execution_count": 61,
   "metadata": {},
   "outputs": [],
   "source": [
    "## Raw linear regression model\n",
    "x = num_data.drop('Salary', axis=1)\n",
    "y= num_data['Salary']"
   ]
  },
  {
   "cell_type": "code",
   "execution_count": 62,
   "metadata": {},
   "outputs": [
    {
     "name": "stdout",
     "output_type": "stream",
     "text": [
      "(3198, 63)\n",
      "(800, 63)\n",
      "(800,)\n"
     ]
    }
   ],
   "source": [
    "from sklearn.model_selection import train_test_split\n",
    "x_train, x_test , y_train, y_test = train_test_split(x,y, test_size = 0.20, random_state = 1)\n",
    "print(x_train.shape)\n",
    "print(x_test.shape)\n",
    "print(y_test.shape)"
   ]
  },
  {
   "cell_type": "code",
   "execution_count": 63,
   "metadata": {},
   "outputs": [],
   "source": [
    "from sklearn.preprocessing import StandardScaler\n",
    "sc=StandardScaler()\n",
    "scaled_train = sc.fit_transform(x_train)\n",
    "scaled_test = sc.transform(x_test)"
   ]
  },
  {
   "cell_type": "code",
   "execution_count": 64,
   "metadata": {},
   "outputs": [
    {
     "name": "stdout",
     "output_type": "stream",
     "text": [
      "R^2: of train data  0.2032328663904358\n",
      "R^2: of test data  0.09234044619283734\n"
     ]
    }
   ],
   "source": [
    "from sklearn.linear_model import LinearRegression\n",
    "lr=LinearRegression(normalize=False)\n",
    "lr.fit(scaled_train,y_train)\n",
    "y_pred=lr.predict(scaled_test)\n",
    "print(\"R^2: of train data \",lr.score(scaled_train, y_train))\n",
    "print(\"R^2: of test data \",lr.score(scaled_test, y_test))"
   ]
  },
  {
   "cell_type": "markdown",
   "metadata": {},
   "source": [
    "as you can see we got very poor result "
   ]
  },
  {
   "cell_type": "code",
   "execution_count": 66,
   "metadata": {},
   "outputs": [
    {
     "data": {
      "text/plain": [
       "RandomForestRegressor(bootstrap=True, criterion='mse', max_depth=None,\n",
       "                      max_features='auto', max_leaf_nodes=None,\n",
       "                      min_impurity_decrease=0.0, min_impurity_split=None,\n",
       "                      min_samples_leaf=1, min_samples_split=2,\n",
       "                      min_weight_fraction_leaf=0.0, n_estimators=50,\n",
       "                      n_jobs=None, oob_score=False, random_state=123, verbose=0,\n",
       "                      warm_start=False)"
      ]
     },
     "execution_count": 66,
     "metadata": {},
     "output_type": "execute_result"
    }
   ],
   "source": [
    "from sklearn.ensemble import RandomForestRegressor\n",
    "regressor = RandomForestRegressor(n_estimators=50,random_state=123)\n",
    "regressor.fit(scaled_train, y_train)"
   ]
  },
  {
   "cell_type": "code",
   "execution_count": 67,
   "metadata": {},
   "outputs": [
    {
     "name": "stdout",
     "output_type": "stream",
     "text": [
      "R^2: of train data  0.8660007907603966\n",
      "R^2: of test data  0.02049720463819249\n"
     ]
    }
   ],
   "source": [
    "y_pred = regressor.predict(scaled_test)\n",
    "print(\"R^2: of train data \",regressor.score(scaled_train, y_train))\n",
    "print(\"R^2: of test data \",regressor.score(scaled_test, y_test))"
   ]
  },
  {
   "cell_type": "code",
   "execution_count": 68,
   "metadata": {},
   "outputs": [],
   "source": [
    "import statsmodels.api         as     sm\n",
    "from   statsmodels.formula.api import ols\n",
    "import warnings \n",
    "warnings.filterwarnings('ignore') "
   ]
  },
  {
   "cell_type": "code",
   "execution_count": 69,
   "metadata": {},
   "outputs": [
    {
     "data": {
      "text/plain": [
       "const           9.217656e-15\n",
       "10percentage    3.361086e-04\n",
       "12graduation    5.744245e-01\n",
       "12percentage    5.982464e-04\n",
       "CollegeID       5.409392e-02\n",
       "dtype: float64"
      ]
     },
     "execution_count": 69,
     "metadata": {},
     "output_type": "execute_result"
    }
   ],
   "source": [
    "X_const = sm.add_constant(x)\n",
    "model = sm.OLS(y,X_const).fit()\n",
    "model.pvalues.head()"
   ]
  },
  {
   "cell_type": "code",
   "execution_count": 70,
   "metadata": {},
   "outputs": [
    {
     "data": {
      "text/html": [
       "<table class=\"simpletable\">\n",
       "<caption>OLS Regression Results</caption>\n",
       "<tr>\n",
       "  <th>Dep. Variable:</th>         <td>Salary</td>      <th>  R-squared:         </th> <td>   0.178</td> \n",
       "</tr>\n",
       "<tr>\n",
       "  <th>Model:</th>                   <td>OLS</td>       <th>  Adj. R-squared:    </th> <td>   0.166</td> \n",
       "</tr>\n",
       "<tr>\n",
       "  <th>Method:</th>             <td>Least Squares</td>  <th>  F-statistic:       </th> <td>   15.20</td> \n",
       "</tr>\n",
       "<tr>\n",
       "  <th>Date:</th>             <td>Tue, 26 May 2020</td> <th>  Prob (F-statistic):</th> <td>2.70e-127</td>\n",
       "</tr>\n",
       "<tr>\n",
       "  <th>Time:</th>                 <td>22:37:23</td>     <th>  Log-Likelihood:    </th> <td> -54328.</td> \n",
       "</tr>\n",
       "<tr>\n",
       "  <th>No. Observations:</th>      <td>  3998</td>      <th>  AIC:               </th> <td>1.088e+05</td>\n",
       "</tr>\n",
       "<tr>\n",
       "  <th>Df Residuals:</th>          <td>  3941</td>      <th>  BIC:               </th> <td>1.091e+05</td>\n",
       "</tr>\n",
       "<tr>\n",
       "  <th>Df Model:</th>              <td>    56</td>      <th>                     </th>     <td> </td>    \n",
       "</tr>\n",
       "<tr>\n",
       "  <th>Covariance Type:</th>      <td>nonrobust</td>    <th>                     </th>     <td> </td>    \n",
       "</tr>\n",
       "</table>\n",
       "<table class=\"simpletable\">\n",
       "<tr>\n",
       "                               <td></td>                                 <th>coef</th>     <th>std err</th>      <th>t</th>      <th>P>|t|</th>  <th>[0.025</th>    <th>0.975]</th>  \n",
       "</tr>\n",
       "<tr>\n",
       "  <th>const</th>                                                      <td>  2.97e+07</td> <td> 3.82e+06</td> <td>    7.780</td> <td> 0.000</td> <td> 2.22e+07</td> <td> 3.72e+07</td>\n",
       "</tr>\n",
       "<tr>\n",
       "  <th>10percentage</th>                                               <td> 1681.3883</td> <td>  468.496</td> <td>    3.589</td> <td> 0.000</td> <td>  762.871</td> <td> 2599.906</td>\n",
       "</tr>\n",
       "<tr>\n",
       "  <th>12graduation</th>                                               <td>-2771.6321</td> <td> 4935.293</td> <td>   -0.562</td> <td> 0.574</td> <td>-1.24e+04</td> <td> 6904.337</td>\n",
       "</tr>\n",
       "<tr>\n",
       "  <th>12percentage</th>                                               <td> 1574.6693</td> <td>  458.393</td> <td>    3.435</td> <td> 0.001</td> <td>  675.959</td> <td> 2473.380</td>\n",
       "</tr>\n",
       "<tr>\n",
       "  <th>CollegeID</th>                                                  <td>   -0.6825</td> <td>    0.354</td> <td>   -1.927</td> <td> 0.054</td> <td>   -1.377</td> <td>    0.012</td>\n",
       "</tr>\n",
       "<tr>\n",
       "  <th>CollegeTier</th>                                                <td>-1.004e+05</td> <td> 1.42e+04</td> <td>   -7.071</td> <td> 0.000</td> <td>-1.28e+05</td> <td>-7.25e+04</td>\n",
       "</tr>\n",
       "<tr>\n",
       "  <th>collegeGPA</th>                                                 <td> 2111.9800</td> <td>  461.196</td> <td>    4.579</td> <td> 0.000</td> <td> 1207.774</td> <td> 3016.186</td>\n",
       "</tr>\n",
       "<tr>\n",
       "  <th>CollegeCityID</th>                                              <td>   -0.6353</td> <td>    0.355</td> <td>   -1.789</td> <td> 0.074</td> <td>   -1.331</td> <td>    0.061</td>\n",
       "</tr>\n",
       "<tr>\n",
       "  <th>CollegeCityTier</th>                                            <td>-2202.3711</td> <td> 1.05e+04</td> <td>   -0.210</td> <td> 0.833</td> <td>-2.27e+04</td> <td> 1.83e+04</td>\n",
       "</tr>\n",
       "<tr>\n",
       "  <th>GraduationYear</th>                                             <td>-3.481e+04</td> <td> 4932.703</td> <td>   -7.057</td> <td> 0.000</td> <td>-4.45e+04</td> <td>-2.51e+04</td>\n",
       "</tr>\n",
       "<tr>\n",
       "  <th>English</th>                                                    <td>  156.8688</td> <td>   36.707</td> <td>    4.274</td> <td> 0.000</td> <td>   84.902</td> <td>  228.836</td>\n",
       "</tr>\n",
       "<tr>\n",
       "  <th>Logical</th>                                                    <td>   67.1455</td> <td>   45.125</td> <td>    1.488</td> <td> 0.137</td> <td>  -21.325</td> <td>  155.616</td>\n",
       "</tr>\n",
       "<tr>\n",
       "  <th>Quant</th>                                                      <td>   90.6834</td> <td>   33.432</td> <td>    2.712</td> <td> 0.007</td> <td>   25.138</td> <td>  156.229</td>\n",
       "</tr>\n",
       "<tr>\n",
       "  <th>Domain</th>                                                     <td> 1.078e+04</td> <td> 1.69e+04</td> <td>    0.639</td> <td> 0.523</td> <td>-2.23e+04</td> <td> 4.38e+04</td>\n",
       "</tr>\n",
       "<tr>\n",
       "  <th>conscientiousness</th>                                          <td> -1.37e+04</td> <td> 3753.913</td> <td>   -3.651</td> <td> 0.000</td> <td>-2.11e+04</td> <td>-6344.217</td>\n",
       "</tr>\n",
       "<tr>\n",
       "  <th>agreeableness</th>                                              <td> 8483.8035</td> <td> 4599.638</td> <td>    1.844</td> <td> 0.065</td> <td> -534.091</td> <td> 1.75e+04</td>\n",
       "</tr>\n",
       "<tr>\n",
       "  <th>extraversion</th>                                               <td> 8502.8404</td> <td> 3832.010</td> <td>    2.219</td> <td> 0.027</td> <td>  989.931</td> <td>  1.6e+04</td>\n",
       "</tr>\n",
       "<tr>\n",
       "  <th>nueroticism</th>                                                <td>-6943.8920</td> <td> 3356.398</td> <td>   -2.069</td> <td> 0.039</td> <td>-1.35e+04</td> <td> -363.452</td>\n",
       "</tr>\n",
       "<tr>\n",
       "  <th>openess_to_experience</th>                                      <td>-8932.6250</td> <td> 3986.663</td> <td>   -2.241</td> <td> 0.025</td> <td>-1.67e+04</td> <td>-1116.508</td>\n",
       "</tr>\n",
       "<tr>\n",
       "  <th>Age</th>                                                        <td>  190.1550</td> <td> 3866.991</td> <td>    0.049</td> <td> 0.961</td> <td>-7391.337</td> <td> 7771.647</td>\n",
       "</tr>\n",
       "<tr>\n",
       "  <th>Mark</th>                                                       <td>  113.4471</td> <td>   54.139</td> <td>    2.095</td> <td> 0.036</td> <td>    7.303</td> <td>  219.591</td>\n",
       "</tr>\n",
       "<tr>\n",
       "  <th>Gender_f</th>                                                   <td> 1.484e+07</td> <td> 1.91e+06</td> <td>    7.773</td> <td> 0.000</td> <td> 1.11e+07</td> <td> 1.86e+07</td>\n",
       "</tr>\n",
       "<tr>\n",
       "  <th>Gender_m</th>                                                   <td> 1.486e+07</td> <td> 1.91e+06</td> <td>    7.786</td> <td> 0.000</td> <td> 1.11e+07</td> <td> 1.86e+07</td>\n",
       "</tr>\n",
       "<tr>\n",
       "  <th>10board_cbse</th>                                               <td> 9.908e+06</td> <td> 1.27e+06</td> <td>    7.785</td> <td> 0.000</td> <td> 7.41e+06</td> <td> 1.24e+07</td>\n",
       "</tr>\n",
       "<tr>\n",
       "  <th>10board_icse</th>                                               <td>  9.91e+06</td> <td> 1.27e+06</td> <td>    7.782</td> <td> 0.000</td> <td> 7.41e+06</td> <td> 1.24e+07</td>\n",
       "</tr>\n",
       "<tr>\n",
       "  <th>10board_state board</th>                                        <td> 9.882e+06</td> <td> 1.27e+06</td> <td>    7.772</td> <td> 0.000</td> <td> 7.39e+06</td> <td> 1.24e+07</td>\n",
       "</tr>\n",
       "<tr>\n",
       "  <th>12board_cbse</th>                                               <td> 9.888e+06</td> <td> 1.27e+06</td> <td>    7.768</td> <td> 0.000</td> <td> 7.39e+06</td> <td> 1.24e+07</td>\n",
       "</tr>\n",
       "<tr>\n",
       "  <th>12board_icse</th>                                               <td> 9.895e+06</td> <td> 1.27e+06</td> <td>    7.777</td> <td> 0.000</td> <td>  7.4e+06</td> <td> 1.24e+07</td>\n",
       "</tr>\n",
       "<tr>\n",
       "  <th>12board_state board</th>                                        <td> 9.917e+06</td> <td> 1.27e+06</td> <td>    7.793</td> <td> 0.000</td> <td> 7.42e+06</td> <td> 1.24e+07</td>\n",
       "</tr>\n",
       "<tr>\n",
       "  <th>Degree_B.Tech/B.E.</th>                                         <td>   7.3e+06</td> <td> 9.54e+05</td> <td>    7.652</td> <td> 0.000</td> <td> 5.43e+06</td> <td> 9.17e+06</td>\n",
       "</tr>\n",
       "<tr>\n",
       "  <th>Degree_M.Sc. (Tech.)</th>                                       <td> 7.384e+06</td> <td> 9.64e+05</td> <td>    7.659</td> <td> 0.000</td> <td> 5.49e+06</td> <td> 9.27e+06</td>\n",
       "</tr>\n",
       "<tr>\n",
       "  <th>Degree_M.Tech./M.E.</th>                                        <td> 7.348e+06</td> <td> 9.57e+05</td> <td>    7.678</td> <td> 0.000</td> <td> 5.47e+06</td> <td> 9.22e+06</td>\n",
       "</tr>\n",
       "<tr>\n",
       "  <th>Degree_MCA</th>                                                 <td> 7.668e+06</td> <td> 9.65e+05</td> <td>    7.942</td> <td> 0.000</td> <td> 5.77e+06</td> <td> 9.56e+06</td>\n",
       "</tr>\n",
       "<tr>\n",
       "  <th>Specialization_Other</th>                                       <td> 1.844e+06</td> <td>  2.4e+05</td> <td>    7.683</td> <td> 0.000</td> <td> 1.37e+06</td> <td> 2.31e+06</td>\n",
       "</tr>\n",
       "<tr>\n",
       "  <th>Specialization_civil engineering</th>                           <td> 1.942e+06</td> <td> 2.43e+05</td> <td>    8.004</td> <td> 0.000</td> <td> 1.47e+06</td> <td> 2.42e+06</td>\n",
       "</tr>\n",
       "<tr>\n",
       "  <th>Specialization_computer application</th>                        <td> 1.511e+06</td> <td> 3.01e+05</td> <td>    5.019</td> <td> 0.000</td> <td> 9.21e+05</td> <td>  2.1e+06</td>\n",
       "</tr>\n",
       "<tr>\n",
       "  <th>Specialization_computer engineering</th>                        <td> 1.892e+06</td> <td> 2.38e+05</td> <td>    7.965</td> <td> 0.000</td> <td> 1.43e+06</td> <td> 2.36e+06</td>\n",
       "</tr>\n",
       "<tr>\n",
       "  <th>Specialization_computer science & engineering</th>              <td>  1.87e+06</td> <td>  2.4e+05</td> <td>    7.803</td> <td> 0.000</td> <td>  1.4e+06</td> <td> 2.34e+06</td>\n",
       "</tr>\n",
       "<tr>\n",
       "  <th>Specialization_electrical engineering</th>                      <td> 1.847e+06</td> <td> 2.39e+05</td> <td>    7.722</td> <td> 0.000</td> <td> 1.38e+06</td> <td> 2.32e+06</td>\n",
       "</tr>\n",
       "<tr>\n",
       "  <th>Specialization_electronics & instrumentation eng</th>           <td> 1.907e+06</td> <td> 2.41e+05</td> <td>    7.917</td> <td> 0.000</td> <td> 1.44e+06</td> <td> 2.38e+06</td>\n",
       "</tr>\n",
       "<tr>\n",
       "  <th>Specialization_electronics & telecommunications</th>            <td> 1.858e+06</td> <td>  2.4e+05</td> <td>    7.754</td> <td> 0.000</td> <td> 1.39e+06</td> <td> 2.33e+06</td>\n",
       "</tr>\n",
       "<tr>\n",
       "  <th>Specialization_electronics and communication engineering</th>   <td> 1.861e+06</td> <td> 2.39e+05</td> <td>    7.787</td> <td> 0.000</td> <td> 1.39e+06</td> <td> 2.33e+06</td>\n",
       "</tr>\n",
       "<tr>\n",
       "  <th>Specialization_electronics and electrical engineering</th>      <td> 1.857e+06</td> <td> 2.39e+05</td> <td>    7.754</td> <td> 0.000</td> <td> 1.39e+06</td> <td> 2.33e+06</td>\n",
       "</tr>\n",
       "<tr>\n",
       "  <th>Specialization_electronics and instrumentation engineering</th> <td> 1.888e+06</td> <td> 2.42e+05</td> <td>    7.815</td> <td> 0.000</td> <td> 1.41e+06</td> <td> 2.36e+06</td>\n",
       "</tr>\n",
       "<tr>\n",
       "  <th>Specialization_electronics engineering</th>                     <td> 1.861e+06</td> <td> 2.43e+05</td> <td>    7.649</td> <td> 0.000</td> <td> 1.38e+06</td> <td> 2.34e+06</td>\n",
       "</tr>\n",
       "<tr>\n",
       "  <th>Specialization_information science engineering</th>             <td> 1.863e+06</td> <td> 2.42e+05</td> <td>    7.685</td> <td> 0.000</td> <td> 1.39e+06</td> <td> 2.34e+06</td>\n",
       "</tr>\n",
       "<tr>\n",
       "  <th>Specialization_information technology</th>                      <td> 1.876e+06</td> <td> 2.39e+05</td> <td>    7.863</td> <td> 0.000</td> <td> 1.41e+06</td> <td> 2.34e+06</td>\n",
       "</tr>\n",
       "<tr>\n",
       "  <th>Specialization_instrumentation and control engineering</th>     <td> 1.937e+06</td> <td> 2.43e+05</td> <td>    7.983</td> <td> 0.000</td> <td> 1.46e+06</td> <td> 2.41e+06</td>\n",
       "</tr>\n",
       "<tr>\n",
       "  <th>Specialization_mechanical engineering</th>                      <td> 1.887e+06</td> <td> 2.39e+05</td> <td>    7.880</td> <td> 0.000</td> <td> 1.42e+06</td> <td> 2.36e+06</td>\n",
       "</tr>\n",
       "<tr>\n",
       "  <th>CollegeState_Andhra Pradesh</th>                                <td>  1.98e+06</td> <td> 2.54e+05</td> <td>    7.804</td> <td> 0.000</td> <td> 1.48e+06</td> <td> 2.48e+06</td>\n",
       "</tr>\n",
       "<tr>\n",
       "  <th>CollegeState_Delhi</th>                                         <td> 1.942e+06</td> <td> 2.56e+05</td> <td>    7.601</td> <td> 0.000</td> <td> 1.44e+06</td> <td> 2.44e+06</td>\n",
       "</tr>\n",
       "<tr>\n",
       "  <th>CollegeState_Haryana</th>                                       <td> 1.975e+06</td> <td> 2.55e+05</td> <td>    7.761</td> <td> 0.000</td> <td> 1.48e+06</td> <td> 2.47e+06</td>\n",
       "</tr>\n",
       "<tr>\n",
       "  <th>CollegeState_Karnataka</th>                                     <td> 2.001e+06</td> <td> 2.56e+05</td> <td>    7.823</td> <td> 0.000</td> <td>  1.5e+06</td> <td>  2.5e+06</td>\n",
       "</tr>\n",
       "<tr>\n",
       "  <th>CollegeState_Madhya Pradesh</th>                                <td> 2.008e+06</td> <td> 2.55e+05</td> <td>    7.867</td> <td> 0.000</td> <td> 1.51e+06</td> <td> 2.51e+06</td>\n",
       "</tr>\n",
       "<tr>\n",
       "  <th>CollegeState_Maharashtra</th>                                   <td> 1.989e+06</td> <td> 2.55e+05</td> <td>    7.791</td> <td> 0.000</td> <td> 1.49e+06</td> <td> 2.49e+06</td>\n",
       "</tr>\n",
       "<tr>\n",
       "  <th>CollegeState_Orissa</th>                                        <td> 1.984e+06</td> <td> 2.54e+05</td> <td>    7.798</td> <td> 0.000</td> <td> 1.48e+06</td> <td> 2.48e+06</td>\n",
       "</tr>\n",
       "<tr>\n",
       "  <th>CollegeState_Other</th>                                         <td>  1.98e+06</td> <td> 2.55e+05</td> <td>    7.769</td> <td> 0.000</td> <td> 1.48e+06</td> <td> 2.48e+06</td>\n",
       "</tr>\n",
       "<tr>\n",
       "  <th>CollegeState_Punjab</th>                                        <td> 1.979e+06</td> <td> 2.56e+05</td> <td>    7.737</td> <td> 0.000</td> <td> 1.48e+06</td> <td> 2.48e+06</td>\n",
       "</tr>\n",
       "<tr>\n",
       "  <th>CollegeState_Rajasthan</th>                                     <td> 2.006e+06</td> <td> 2.55e+05</td> <td>    7.877</td> <td> 0.000</td> <td> 1.51e+06</td> <td> 2.51e+06</td>\n",
       "</tr>\n",
       "<tr>\n",
       "  <th>CollegeState_Tamil Nadu</th>                                    <td> 1.943e+06</td> <td> 2.54e+05</td> <td>    7.649</td> <td> 0.000</td> <td> 1.44e+06</td> <td> 2.44e+06</td>\n",
       "</tr>\n",
       "<tr>\n",
       "  <th>CollegeState_Telangana</th>                                     <td> 1.967e+06</td> <td> 2.54e+05</td> <td>    7.736</td> <td> 0.000</td> <td> 1.47e+06</td> <td> 2.47e+06</td>\n",
       "</tr>\n",
       "<tr>\n",
       "  <th>CollegeState_Uttar Pradesh</th>                                 <td>  1.99e+06</td> <td> 2.54e+05</td> <td>    7.831</td> <td> 0.000</td> <td> 1.49e+06</td> <td> 2.49e+06</td>\n",
       "</tr>\n",
       "<tr>\n",
       "  <th>CollegeState_Uttarakhand</th>                                   <td> 2.004e+06</td> <td> 2.55e+05</td> <td>    7.855</td> <td> 0.000</td> <td>  1.5e+06</td> <td>  2.5e+06</td>\n",
       "</tr>\n",
       "<tr>\n",
       "  <th>CollegeState_West Bengal</th>                                   <td> 1.952e+06</td> <td> 2.57e+05</td> <td>    7.611</td> <td> 0.000</td> <td> 1.45e+06</td> <td> 2.46e+06</td>\n",
       "</tr>\n",
       "</table>\n",
       "<table class=\"simpletable\">\n",
       "<tr>\n",
       "  <th>Omnibus:</th>       <td>5408.133</td> <th>  Durbin-Watson:     </th>  <td>   1.999</td>  \n",
       "</tr>\n",
       "<tr>\n",
       "  <th>Prob(Omnibus):</th>  <td> 0.000</td>  <th>  Jarque-Bera (JB):  </th> <td>1795558.367</td>\n",
       "</tr>\n",
       "<tr>\n",
       "  <th>Skew:</th>           <td> 7.542</td>  <th>  Prob(JB):          </th>  <td>    0.00</td>  \n",
       "</tr>\n",
       "<tr>\n",
       "  <th>Kurtosis:</th>       <td>105.719</td> <th>  Cond. No.          </th>  <td>1.30e+16</td>  \n",
       "</tr>\n",
       "</table><br/><br/>Warnings:<br/>[1] Standard Errors assume that the covariance matrix of the errors is correctly specified.<br/>[2] The smallest eigenvalue is 2.48e-21. This might indicate that there are<br/>strong multicollinearity problems or that the design matrix is singular."
      ],
      "text/plain": [
       "<class 'statsmodels.iolib.summary.Summary'>\n",
       "\"\"\"\n",
       "                            OLS Regression Results                            \n",
       "==============================================================================\n",
       "Dep. Variable:                 Salary   R-squared:                       0.178\n",
       "Model:                            OLS   Adj. R-squared:                  0.166\n",
       "Method:                 Least Squares   F-statistic:                     15.20\n",
       "Date:                Tue, 26 May 2020   Prob (F-statistic):          2.70e-127\n",
       "Time:                        22:37:23   Log-Likelihood:                -54328.\n",
       "No. Observations:                3998   AIC:                         1.088e+05\n",
       "Df Residuals:                    3941   BIC:                         1.091e+05\n",
       "Df Model:                          56                                         \n",
       "Covariance Type:            nonrobust                                         \n",
       "==============================================================================================================================\n",
       "                                                                 coef    std err          t      P>|t|      [0.025      0.975]\n",
       "------------------------------------------------------------------------------------------------------------------------------\n",
       "const                                                        2.97e+07   3.82e+06      7.780      0.000    2.22e+07    3.72e+07\n",
       "10percentage                                                1681.3883    468.496      3.589      0.000     762.871    2599.906\n",
       "12graduation                                               -2771.6321   4935.293     -0.562      0.574   -1.24e+04    6904.337\n",
       "12percentage                                                1574.6693    458.393      3.435      0.001     675.959    2473.380\n",
       "CollegeID                                                     -0.6825      0.354     -1.927      0.054      -1.377       0.012\n",
       "CollegeTier                                                -1.004e+05   1.42e+04     -7.071      0.000   -1.28e+05   -7.25e+04\n",
       "collegeGPA                                                  2111.9800    461.196      4.579      0.000    1207.774    3016.186\n",
       "CollegeCityID                                                 -0.6353      0.355     -1.789      0.074      -1.331       0.061\n",
       "CollegeCityTier                                            -2202.3711   1.05e+04     -0.210      0.833   -2.27e+04    1.83e+04\n",
       "GraduationYear                                             -3.481e+04   4932.703     -7.057      0.000   -4.45e+04   -2.51e+04\n",
       "English                                                      156.8688     36.707      4.274      0.000      84.902     228.836\n",
       "Logical                                                       67.1455     45.125      1.488      0.137     -21.325     155.616\n",
       "Quant                                                         90.6834     33.432      2.712      0.007      25.138     156.229\n",
       "Domain                                                      1.078e+04   1.69e+04      0.639      0.523   -2.23e+04    4.38e+04\n",
       "conscientiousness                                           -1.37e+04   3753.913     -3.651      0.000   -2.11e+04   -6344.217\n",
       "agreeableness                                               8483.8035   4599.638      1.844      0.065    -534.091    1.75e+04\n",
       "extraversion                                                8502.8404   3832.010      2.219      0.027     989.931     1.6e+04\n",
       "nueroticism                                                -6943.8920   3356.398     -2.069      0.039   -1.35e+04    -363.452\n",
       "openess_to_experience                                      -8932.6250   3986.663     -2.241      0.025   -1.67e+04   -1116.508\n",
       "Age                                                          190.1550   3866.991      0.049      0.961   -7391.337    7771.647\n",
       "Mark                                                         113.4471     54.139      2.095      0.036       7.303     219.591\n",
       "Gender_f                                                    1.484e+07   1.91e+06      7.773      0.000    1.11e+07    1.86e+07\n",
       "Gender_m                                                    1.486e+07   1.91e+06      7.786      0.000    1.11e+07    1.86e+07\n",
       "10board_cbse                                                9.908e+06   1.27e+06      7.785      0.000    7.41e+06    1.24e+07\n",
       "10board_icse                                                 9.91e+06   1.27e+06      7.782      0.000    7.41e+06    1.24e+07\n",
       "10board_state board                                         9.882e+06   1.27e+06      7.772      0.000    7.39e+06    1.24e+07\n",
       "12board_cbse                                                9.888e+06   1.27e+06      7.768      0.000    7.39e+06    1.24e+07\n",
       "12board_icse                                                9.895e+06   1.27e+06      7.777      0.000     7.4e+06    1.24e+07\n",
       "12board_state board                                         9.917e+06   1.27e+06      7.793      0.000    7.42e+06    1.24e+07\n",
       "Degree_B.Tech/B.E.                                            7.3e+06   9.54e+05      7.652      0.000    5.43e+06    9.17e+06\n",
       "Degree_M.Sc. (Tech.)                                        7.384e+06   9.64e+05      7.659      0.000    5.49e+06    9.27e+06\n",
       "Degree_M.Tech./M.E.                                         7.348e+06   9.57e+05      7.678      0.000    5.47e+06    9.22e+06\n",
       "Degree_MCA                                                  7.668e+06   9.65e+05      7.942      0.000    5.77e+06    9.56e+06\n",
       "Specialization_Other                                        1.844e+06    2.4e+05      7.683      0.000    1.37e+06    2.31e+06\n",
       "Specialization_civil engineering                            1.942e+06   2.43e+05      8.004      0.000    1.47e+06    2.42e+06\n",
       "Specialization_computer application                         1.511e+06   3.01e+05      5.019      0.000    9.21e+05     2.1e+06\n",
       "Specialization_computer engineering                         1.892e+06   2.38e+05      7.965      0.000    1.43e+06    2.36e+06\n",
       "Specialization_computer science & engineering                1.87e+06    2.4e+05      7.803      0.000     1.4e+06    2.34e+06\n",
       "Specialization_electrical engineering                       1.847e+06   2.39e+05      7.722      0.000    1.38e+06    2.32e+06\n",
       "Specialization_electronics & instrumentation eng            1.907e+06   2.41e+05      7.917      0.000    1.44e+06    2.38e+06\n",
       "Specialization_electronics & telecommunications             1.858e+06    2.4e+05      7.754      0.000    1.39e+06    2.33e+06\n",
       "Specialization_electronics and communication engineering    1.861e+06   2.39e+05      7.787      0.000    1.39e+06    2.33e+06\n",
       "Specialization_electronics and electrical engineering       1.857e+06   2.39e+05      7.754      0.000    1.39e+06    2.33e+06\n",
       "Specialization_electronics and instrumentation engineering  1.888e+06   2.42e+05      7.815      0.000    1.41e+06    2.36e+06\n",
       "Specialization_electronics engineering                      1.861e+06   2.43e+05      7.649      0.000    1.38e+06    2.34e+06\n",
       "Specialization_information science engineering              1.863e+06   2.42e+05      7.685      0.000    1.39e+06    2.34e+06\n",
       "Specialization_information technology                       1.876e+06   2.39e+05      7.863      0.000    1.41e+06    2.34e+06\n",
       "Specialization_instrumentation and control engineering      1.937e+06   2.43e+05      7.983      0.000    1.46e+06    2.41e+06\n",
       "Specialization_mechanical engineering                       1.887e+06   2.39e+05      7.880      0.000    1.42e+06    2.36e+06\n",
       "CollegeState_Andhra Pradesh                                  1.98e+06   2.54e+05      7.804      0.000    1.48e+06    2.48e+06\n",
       "CollegeState_Delhi                                          1.942e+06   2.56e+05      7.601      0.000    1.44e+06    2.44e+06\n",
       "CollegeState_Haryana                                        1.975e+06   2.55e+05      7.761      0.000    1.48e+06    2.47e+06\n",
       "CollegeState_Karnataka                                      2.001e+06   2.56e+05      7.823      0.000     1.5e+06     2.5e+06\n",
       "CollegeState_Madhya Pradesh                                 2.008e+06   2.55e+05      7.867      0.000    1.51e+06    2.51e+06\n",
       "CollegeState_Maharashtra                                    1.989e+06   2.55e+05      7.791      0.000    1.49e+06    2.49e+06\n",
       "CollegeState_Orissa                                         1.984e+06   2.54e+05      7.798      0.000    1.48e+06    2.48e+06\n",
       "CollegeState_Other                                           1.98e+06   2.55e+05      7.769      0.000    1.48e+06    2.48e+06\n",
       "CollegeState_Punjab                                         1.979e+06   2.56e+05      7.737      0.000    1.48e+06    2.48e+06\n",
       "CollegeState_Rajasthan                                      2.006e+06   2.55e+05      7.877      0.000    1.51e+06    2.51e+06\n",
       "CollegeState_Tamil Nadu                                     1.943e+06   2.54e+05      7.649      0.000    1.44e+06    2.44e+06\n",
       "CollegeState_Telangana                                      1.967e+06   2.54e+05      7.736      0.000    1.47e+06    2.47e+06\n",
       "CollegeState_Uttar Pradesh                                   1.99e+06   2.54e+05      7.831      0.000    1.49e+06    2.49e+06\n",
       "CollegeState_Uttarakhand                                    2.004e+06   2.55e+05      7.855      0.000     1.5e+06     2.5e+06\n",
       "CollegeState_West Bengal                                    1.952e+06   2.57e+05      7.611      0.000    1.45e+06    2.46e+06\n",
       "==============================================================================\n",
       "Omnibus:                     5408.133   Durbin-Watson:                   1.999\n",
       "Prob(Omnibus):                  0.000   Jarque-Bera (JB):          1795558.367\n",
       "Skew:                           7.542   Prob(JB):                         0.00\n",
       "Kurtosis:                     105.719   Cond. No.                     1.30e+16\n",
       "==============================================================================\n",
       "\n",
       "Warnings:\n",
       "[1] Standard Errors assume that the covariance matrix of the errors is correctly specified.\n",
       "[2] The smallest eigenvalue is 2.48e-21. This might indicate that there are\n",
       "strong multicollinearity problems or that the design matrix is singular.\n",
       "\"\"\""
      ]
     },
     "execution_count": 70,
     "metadata": {},
     "output_type": "execute_result"
    }
   ],
   "source": [
    "model.summary()"
   ]
  },
  {
   "cell_type": "code",
   "execution_count": 71,
   "metadata": {},
   "outputs": [
    {
     "data": {
      "application/javascript": [
       "\n",
       "        if (window._pyforest_update_imports_cell) { window._pyforest_update_imports_cell('import numpy as np\\nimport matplotlib.pyplot as plt\\nimport pandas as pd'); }\n",
       "    "
      ],
      "text/plain": [
       "<IPython.core.display.Javascript object>"
      ]
     },
     "metadata": {},
     "output_type": "display_data"
    },
    {
     "data": {
      "application/javascript": [
       "\n",
       "        if (window._pyforest_update_imports_cell) { window._pyforest_update_imports_cell('import numpy as np\\nimport matplotlib.pyplot as plt\\nimport pandas as pd'); }\n",
       "    "
      ],
      "text/plain": [
       "<IPython.core.display.Javascript object>"
      ]
     },
     "metadata": {},
     "output_type": "display_data"
    },
    {
     "data": {
      "application/javascript": [
       "\n",
       "        if (window._pyforest_update_imports_cell) { window._pyforest_update_imports_cell('import numpy as np\\nimport matplotlib.pyplot as plt\\nimport pandas as pd'); }\n",
       "    "
      ],
      "text/plain": [
       "<IPython.core.display.Javascript object>"
      ]
     },
     "metadata": {},
     "output_type": "display_data"
    },
    {
     "data": {
      "application/javascript": [
       "\n",
       "        if (window._pyforest_update_imports_cell) { window._pyforest_update_imports_cell('import numpy as np\\nimport matplotlib.pyplot as plt\\nimport pandas as pd'); }\n",
       "    "
      ],
      "text/plain": [
       "<IPython.core.display.Javascript object>"
      ]
     },
     "metadata": {},
     "output_type": "display_data"
    },
    {
     "data": {
      "application/javascript": [
       "\n",
       "        if (window._pyforest_update_imports_cell) { window._pyforest_update_imports_cell('import numpy as np\\nimport matplotlib.pyplot as plt\\nimport pandas as pd'); }\n",
       "    "
      ],
      "text/plain": [
       "<IPython.core.display.Javascript object>"
      ]
     },
     "metadata": {},
     "output_type": "display_data"
    },
    {
     "data": {
      "application/javascript": [
       "\n",
       "        if (window._pyforest_update_imports_cell) { window._pyforest_update_imports_cell('import numpy as np\\nimport matplotlib.pyplot as plt\\nimport pandas as pd'); }\n",
       "    "
      ],
      "text/plain": [
       "<IPython.core.display.Javascript object>"
      ]
     },
     "metadata": {},
     "output_type": "display_data"
    },
    {
     "data": {
      "application/javascript": [
       "\n",
       "        if (window._pyforest_update_imports_cell) { window._pyforest_update_imports_cell('import numpy as np\\nimport matplotlib.pyplot as plt\\nimport pandas as pd'); }\n",
       "    "
      ],
      "text/plain": [
       "<IPython.core.display.Javascript object>"
      ]
     },
     "metadata": {},
     "output_type": "display_data"
    },
    {
     "data": {
      "application/javascript": [
       "\n",
       "        if (window._pyforest_update_imports_cell) { window._pyforest_update_imports_cell('import numpy as np\\nimport matplotlib.pyplot as plt\\nimport pandas as pd'); }\n",
       "    "
      ],
      "text/plain": [
       "<IPython.core.display.Javascript object>"
      ]
     },
     "metadata": {},
     "output_type": "display_data"
    },
    {
     "name": "stdout",
     "output_type": "stream",
     "text": [
      "['10percentage', '12percentage', 'CollegeTier', 'collegeGPA', 'GraduationYear', 'English', 'Quant', 'conscientiousness', 'agreeableness', 'extraversion', 'nueroticism', 'openess_to_experience', 'Mark', 'Gender_f', 'Gender_m', '10board_cbse', '10board_icse', '10board_state board', '12board_cbse', '12board_icse', '12board_state board', 'Degree_B.Tech/B.E.', 'Degree_M.Sc. (Tech.)', 'Degree_M.Tech./M.E.', 'Degree_MCA', 'Specialization_Other', 'Specialization_civil engineering', 'Specialization_computer application', 'Specialization_computer engineering', 'Specialization_computer science & engineering', 'Specialization_electrical engineering', 'Specialization_electronics & instrumentation eng', 'Specialization_electronics & telecommunications', 'Specialization_electronics and communication engineering', 'Specialization_electronics and electrical engineering', 'Specialization_electronics and instrumentation engineering', 'Specialization_electronics engineering', 'Specialization_information science engineering', 'Specialization_information technology', 'Specialization_instrumentation and control engineering', 'Specialization_mechanical engineering', 'CollegeState_Andhra Pradesh', 'CollegeState_Delhi', 'CollegeState_Haryana', 'CollegeState_Karnataka', 'CollegeState_Madhya Pradesh', 'CollegeState_Maharashtra', 'CollegeState_Orissa', 'CollegeState_Other', 'CollegeState_Punjab', 'CollegeState_Rajasthan', 'CollegeState_Tamil Nadu', 'CollegeState_Telangana', 'CollegeState_Uttar Pradesh', 'CollegeState_Uttarakhand', 'CollegeState_West Bengal']\n"
     ]
    }
   ],
   "source": [
    "#Backward Elimination\n",
    "cols = list(x.columns)\n",
    "pmax = 1\n",
    "while (len(cols)>0):\n",
    "    p= []\n",
    "    X_1 = x[cols]\n",
    "    X_1 = sm.add_constant(X_1)\n",
    "    model = sm.OLS(y,X_1).fit()\n",
    "    p = pd.Series(model.pvalues.values[1:],index = cols)      \n",
    "    pmax = max(p)\n",
    "    feature_with_p_max = p.idxmax()\n",
    "    if(pmax>0.05):\n",
    "        cols.remove(feature_with_p_max)\n",
    "    else:\n",
    "        break\n",
    "selected_features_BE = cols\n",
    "print(selected_features_BE)"
   ]
  },
  {
   "cell_type": "code",
   "execution_count": 72,
   "metadata": {},
   "outputs": [
    {
     "name": "stdout",
     "output_type": "stream",
     "text": [
      "R^2: of train data  0.01701915021990763\n",
      "R^2: of test data  -0.019313646281879704\n"
     ]
    }
   ],
   "source": [
    "# Train test split\n",
    "x=num_data[selected_features_BE]\n",
    "y=num_data['Salary']\n",
    "x_train,x_test,y_train,y_test=train_test_split(x,y,test_size=0.2,random_state=123)\n",
    "\n",
    " # scalling\n",
    "sc=StandardScaler()\n",
    "scaled_x_train = sc.fit_transform(x_train)\n",
    "scaled_x_test = sc.transform(x_test)\n",
    "\n",
    "# applying Model\n",
    "\n",
    "lr2=LinearRegression(normalize=False)\n",
    "lr2.fit(scaled_train,y_train)\n",
    "y_pred=lr2.predict(scaled_test)\n",
    "print(\"R^2: of train data \",lr2.score(scaled_train, y_train))\n",
    "print(\"R^2: of test data \",lr2.score(scaled_test, y_test))"
   ]
  },
  {
   "cell_type": "markdown",
   "metadata": {},
   "source": [
    "## SLC"
   ]
  },
  {
   "cell_type": "code",
   "execution_count": 73,
   "metadata": {},
   "outputs": [],
   "source": [
    "### changing salary to catagorical"
   ]
  },
  {
   "cell_type": "code",
   "execution_count": 74,
   "metadata": {},
   "outputs": [],
   "source": [
    "data=train"
   ]
  },
  {
   "cell_type": "code",
   "execution_count": 75,
   "metadata": {},
   "outputs": [],
   "source": [
    "def change(x):\n",
    "    if 0<x<=300000:   # 300000 is median salary that is why range is taken up to 300000\n",
    "        return 'Low'\n",
    "    elif 300000<x<=500000:\n",
    "        return 'Medium'\n",
    "\n",
    "    else:\n",
    "        return 'High'\n",
    "data['Salary']=data['Salary'].apply(change)"
   ]
  },
  {
   "cell_type": "code",
   "execution_count": 76,
   "metadata": {},
   "outputs": [
    {
     "data": {
      "text/html": [
       "<div>\n",
       "<style scoped>\n",
       "    .dataframe tbody tr th:only-of-type {\n",
       "        vertical-align: middle;\n",
       "    }\n",
       "\n",
       "    .dataframe tbody tr th {\n",
       "        vertical-align: top;\n",
       "    }\n",
       "\n",
       "    .dataframe thead th {\n",
       "        text-align: right;\n",
       "    }\n",
       "</style>\n",
       "<table border=\"1\" class=\"dataframe\">\n",
       "  <thead>\n",
       "    <tr style=\"text-align: right;\">\n",
       "      <th></th>\n",
       "      <th>Salary</th>\n",
       "      <th>Gender</th>\n",
       "      <th>10percentage</th>\n",
       "      <th>10board</th>\n",
       "      <th>12graduation</th>\n",
       "      <th>12percentage</th>\n",
       "      <th>12board</th>\n",
       "      <th>CollegeID</th>\n",
       "      <th>CollegeTier</th>\n",
       "      <th>Degree</th>\n",
       "      <th>...</th>\n",
       "      <th>Logical</th>\n",
       "      <th>Quant</th>\n",
       "      <th>Domain</th>\n",
       "      <th>conscientiousness</th>\n",
       "      <th>agreeableness</th>\n",
       "      <th>extraversion</th>\n",
       "      <th>nueroticism</th>\n",
       "      <th>openess_to_experience</th>\n",
       "      <th>Age</th>\n",
       "      <th>Mark</th>\n",
       "    </tr>\n",
       "  </thead>\n",
       "  <tbody>\n",
       "    <tr>\n",
       "      <td>0</td>\n",
       "      <td>Medium</td>\n",
       "      <td>f</td>\n",
       "      <td>84.3</td>\n",
       "      <td>state board</td>\n",
       "      <td>2007</td>\n",
       "      <td>95.8</td>\n",
       "      <td>state board</td>\n",
       "      <td>1141</td>\n",
       "      <td>2</td>\n",
       "      <td>B.Tech/B.E.</td>\n",
       "      <td>...</td>\n",
       "      <td>585</td>\n",
       "      <td>525</td>\n",
       "      <td>0.635979</td>\n",
       "      <td>0.9737</td>\n",
       "      <td>0.8128</td>\n",
       "      <td>0.5269</td>\n",
       "      <td>1.35490</td>\n",
       "      <td>-0.4455</td>\n",
       "      <td>29</td>\n",
       "      <td>445</td>\n",
       "    </tr>\n",
       "    <tr>\n",
       "      <td>1</td>\n",
       "      <td>Medium</td>\n",
       "      <td>m</td>\n",
       "      <td>85.4</td>\n",
       "      <td>cbse</td>\n",
       "      <td>2007</td>\n",
       "      <td>85.0</td>\n",
       "      <td>cbse</td>\n",
       "      <td>5807</td>\n",
       "      <td>2</td>\n",
       "      <td>B.Tech/B.E.</td>\n",
       "      <td>...</td>\n",
       "      <td>610</td>\n",
       "      <td>780</td>\n",
       "      <td>0.960603</td>\n",
       "      <td>-0.7335</td>\n",
       "      <td>0.3789</td>\n",
       "      <td>1.2396</td>\n",
       "      <td>-0.10760</td>\n",
       "      <td>0.8637</td>\n",
       "      <td>30</td>\n",
       "      <td>466</td>\n",
       "    </tr>\n",
       "    <tr>\n",
       "      <td>2</td>\n",
       "      <td>Medium</td>\n",
       "      <td>f</td>\n",
       "      <td>85.0</td>\n",
       "      <td>cbse</td>\n",
       "      <td>2010</td>\n",
       "      <td>68.2</td>\n",
       "      <td>cbse</td>\n",
       "      <td>64</td>\n",
       "      <td>2</td>\n",
       "      <td>B.Tech/B.E.</td>\n",
       "      <td>...</td>\n",
       "      <td>545</td>\n",
       "      <td>370</td>\n",
       "      <td>0.450877</td>\n",
       "      <td>0.2718</td>\n",
       "      <td>1.7109</td>\n",
       "      <td>0.1637</td>\n",
       "      <td>-0.86820</td>\n",
       "      <td>0.6721</td>\n",
       "      <td>27</td>\n",
       "      <td>395</td>\n",
       "    </tr>\n",
       "    <tr>\n",
       "      <td>3</td>\n",
       "      <td>High</td>\n",
       "      <td>m</td>\n",
       "      <td>85.6</td>\n",
       "      <td>cbse</td>\n",
       "      <td>2007</td>\n",
       "      <td>83.6</td>\n",
       "      <td>cbse</td>\n",
       "      <td>6920</td>\n",
       "      <td>1</td>\n",
       "      <td>B.Tech/B.E.</td>\n",
       "      <td>...</td>\n",
       "      <td>585</td>\n",
       "      <td>625</td>\n",
       "      <td>0.974396</td>\n",
       "      <td>0.0464</td>\n",
       "      <td>0.3448</td>\n",
       "      <td>-0.3440</td>\n",
       "      <td>-0.40780</td>\n",
       "      <td>-0.9194</td>\n",
       "      <td>30</td>\n",
       "      <td>615</td>\n",
       "    </tr>\n",
       "    <tr>\n",
       "      <td>4</td>\n",
       "      <td>Low</td>\n",
       "      <td>m</td>\n",
       "      <td>78.0</td>\n",
       "      <td>cbse</td>\n",
       "      <td>2008</td>\n",
       "      <td>76.8</td>\n",
       "      <td>cbse</td>\n",
       "      <td>11368</td>\n",
       "      <td>2</td>\n",
       "      <td>B.Tech/B.E.</td>\n",
       "      <td>...</td>\n",
       "      <td>625</td>\n",
       "      <td>465</td>\n",
       "      <td>0.124502</td>\n",
       "      <td>-0.8810</td>\n",
       "      <td>-0.2793</td>\n",
       "      <td>-1.0697</td>\n",
       "      <td>0.09163</td>\n",
       "      <td>-0.1295</td>\n",
       "      <td>28</td>\n",
       "      <td>233</td>\n",
       "    </tr>\n",
       "  </tbody>\n",
       "</table>\n",
       "<p>5 rows × 27 columns</p>\n",
       "</div>"
      ],
      "text/plain": [
       "   Salary Gender  10percentage      10board  12graduation  12percentage  \\\n",
       "0  Medium      f          84.3  state board          2007          95.8   \n",
       "1  Medium      m          85.4         cbse          2007          85.0   \n",
       "2  Medium      f          85.0         cbse          2010          68.2   \n",
       "3    High      m          85.6         cbse          2007          83.6   \n",
       "4     Low      m          78.0         cbse          2008          76.8   \n",
       "\n",
       "       12board  CollegeID  CollegeTier       Degree  ... Logical  Quant  \\\n",
       "0  state board       1141            2  B.Tech/B.E.  ...     585    525   \n",
       "1         cbse       5807            2  B.Tech/B.E.  ...     610    780   \n",
       "2         cbse         64            2  B.Tech/B.E.  ...     545    370   \n",
       "3         cbse       6920            1  B.Tech/B.E.  ...     585    625   \n",
       "4         cbse      11368            2  B.Tech/B.E.  ...     625    465   \n",
       "\n",
       "     Domain  conscientiousness agreeableness  extraversion  nueroticism  \\\n",
       "0  0.635979             0.9737        0.8128        0.5269      1.35490   \n",
       "1  0.960603            -0.7335        0.3789        1.2396     -0.10760   \n",
       "2  0.450877             0.2718        1.7109        0.1637     -0.86820   \n",
       "3  0.974396             0.0464        0.3448       -0.3440     -0.40780   \n",
       "4  0.124502            -0.8810       -0.2793       -1.0697      0.09163   \n",
       "\n",
       "   openess_to_experience  Age  Mark  \n",
       "0                -0.4455   29   445  \n",
       "1                 0.8637   30   466  \n",
       "2                 0.6721   27   395  \n",
       "3                -0.9194   30   615  \n",
       "4                -0.1295   28   233  \n",
       "\n",
       "[5 rows x 27 columns]"
      ]
     },
     "execution_count": 76,
     "metadata": {},
     "output_type": "execute_result"
    }
   ],
   "source": [
    "data.head()"
   ]
  },
  {
   "cell_type": "code",
   "execution_count": 77,
   "metadata": {},
   "outputs": [],
   "source": [
    "a=data.drop([\"Salary\"],axis=1)\n",
    "b=data[\"Salary\"]"
   ]
  },
  {
   "cell_type": "code",
   "execution_count": 78,
   "metadata": {},
   "outputs": [],
   "source": [
    "## do we need to get dummies for classification"
   ]
  },
  {
   "cell_type": "code",
   "execution_count": 79,
   "metadata": {},
   "outputs": [
    {
     "data": {
      "application/javascript": [
       "\n",
       "        if (window._pyforest_update_imports_cell) { window._pyforest_update_imports_cell('import numpy as np\\nimport matplotlib.pyplot as plt\\nimport pandas as pd'); }\n",
       "    "
      ],
      "text/plain": [
       "<IPython.core.display.Javascript object>"
      ]
     },
     "metadata": {},
     "output_type": "display_data"
    },
    {
     "data": {
      "text/html": [
       "<div>\n",
       "<style scoped>\n",
       "    .dataframe tbody tr th:only-of-type {\n",
       "        vertical-align: middle;\n",
       "    }\n",
       "\n",
       "    .dataframe tbody tr th {\n",
       "        vertical-align: top;\n",
       "    }\n",
       "\n",
       "    .dataframe thead th {\n",
       "        text-align: right;\n",
       "    }\n",
       "</style>\n",
       "<table border=\"1\" class=\"dataframe\">\n",
       "  <thead>\n",
       "    <tr style=\"text-align: right;\">\n",
       "      <th></th>\n",
       "      <th>10percentage</th>\n",
       "      <th>12graduation</th>\n",
       "      <th>12percentage</th>\n",
       "      <th>CollegeID</th>\n",
       "      <th>CollegeTier</th>\n",
       "      <th>collegeGPA</th>\n",
       "      <th>CollegeCityID</th>\n",
       "      <th>CollegeCityTier</th>\n",
       "      <th>GraduationYear</th>\n",
       "      <th>English</th>\n",
       "      <th>...</th>\n",
       "      <th>CollegeState_Maharashtra</th>\n",
       "      <th>CollegeState_Orissa</th>\n",
       "      <th>CollegeState_Other</th>\n",
       "      <th>CollegeState_Punjab</th>\n",
       "      <th>CollegeState_Rajasthan</th>\n",
       "      <th>CollegeState_Tamil Nadu</th>\n",
       "      <th>CollegeState_Telangana</th>\n",
       "      <th>CollegeState_Uttar Pradesh</th>\n",
       "      <th>CollegeState_Uttarakhand</th>\n",
       "      <th>CollegeState_West Bengal</th>\n",
       "    </tr>\n",
       "  </thead>\n",
       "  <tbody>\n",
       "    <tr>\n",
       "      <td>0</td>\n",
       "      <td>84.3</td>\n",
       "      <td>2007</td>\n",
       "      <td>95.8</td>\n",
       "      <td>1141</td>\n",
       "      <td>2</td>\n",
       "      <td>78.00</td>\n",
       "      <td>1141</td>\n",
       "      <td>0</td>\n",
       "      <td>2011</td>\n",
       "      <td>515</td>\n",
       "      <td>...</td>\n",
       "      <td>0</td>\n",
       "      <td>0</td>\n",
       "      <td>0</td>\n",
       "      <td>0</td>\n",
       "      <td>0</td>\n",
       "      <td>0</td>\n",
       "      <td>0</td>\n",
       "      <td>0</td>\n",
       "      <td>0</td>\n",
       "      <td>0</td>\n",
       "    </tr>\n",
       "    <tr>\n",
       "      <td>1</td>\n",
       "      <td>85.4</td>\n",
       "      <td>2007</td>\n",
       "      <td>85.0</td>\n",
       "      <td>5807</td>\n",
       "      <td>2</td>\n",
       "      <td>70.06</td>\n",
       "      <td>5807</td>\n",
       "      <td>0</td>\n",
       "      <td>2012</td>\n",
       "      <td>695</td>\n",
       "      <td>...</td>\n",
       "      <td>0</td>\n",
       "      <td>0</td>\n",
       "      <td>0</td>\n",
       "      <td>0</td>\n",
       "      <td>0</td>\n",
       "      <td>0</td>\n",
       "      <td>0</td>\n",
       "      <td>0</td>\n",
       "      <td>0</td>\n",
       "      <td>0</td>\n",
       "    </tr>\n",
       "    <tr>\n",
       "      <td>2</td>\n",
       "      <td>85.0</td>\n",
       "      <td>2010</td>\n",
       "      <td>68.2</td>\n",
       "      <td>64</td>\n",
       "      <td>2</td>\n",
       "      <td>70.00</td>\n",
       "      <td>64</td>\n",
       "      <td>0</td>\n",
       "      <td>2014</td>\n",
       "      <td>615</td>\n",
       "      <td>...</td>\n",
       "      <td>0</td>\n",
       "      <td>0</td>\n",
       "      <td>0</td>\n",
       "      <td>0</td>\n",
       "      <td>0</td>\n",
       "      <td>0</td>\n",
       "      <td>0</td>\n",
       "      <td>1</td>\n",
       "      <td>0</td>\n",
       "      <td>0</td>\n",
       "    </tr>\n",
       "    <tr>\n",
       "      <td>3</td>\n",
       "      <td>85.6</td>\n",
       "      <td>2007</td>\n",
       "      <td>83.6</td>\n",
       "      <td>6920</td>\n",
       "      <td>1</td>\n",
       "      <td>74.64</td>\n",
       "      <td>6920</td>\n",
       "      <td>1</td>\n",
       "      <td>2011</td>\n",
       "      <td>635</td>\n",
       "      <td>...</td>\n",
       "      <td>0</td>\n",
       "      <td>0</td>\n",
       "      <td>0</td>\n",
       "      <td>0</td>\n",
       "      <td>0</td>\n",
       "      <td>0</td>\n",
       "      <td>0</td>\n",
       "      <td>0</td>\n",
       "      <td>0</td>\n",
       "      <td>0</td>\n",
       "    </tr>\n",
       "    <tr>\n",
       "      <td>4</td>\n",
       "      <td>78.0</td>\n",
       "      <td>2008</td>\n",
       "      <td>76.8</td>\n",
       "      <td>11368</td>\n",
       "      <td>2</td>\n",
       "      <td>73.90</td>\n",
       "      <td>11368</td>\n",
       "      <td>0</td>\n",
       "      <td>2012</td>\n",
       "      <td>545</td>\n",
       "      <td>...</td>\n",
       "      <td>0</td>\n",
       "      <td>0</td>\n",
       "      <td>0</td>\n",
       "      <td>0</td>\n",
       "      <td>0</td>\n",
       "      <td>0</td>\n",
       "      <td>0</td>\n",
       "      <td>1</td>\n",
       "      <td>0</td>\n",
       "      <td>0</td>\n",
       "    </tr>\n",
       "  </tbody>\n",
       "</table>\n",
       "<p>5 rows × 63 columns</p>\n",
       "</div>"
      ],
      "text/plain": [
       "   10percentage  12graduation  12percentage  CollegeID  CollegeTier  \\\n",
       "0          84.3          2007          95.8       1141            2   \n",
       "1          85.4          2007          85.0       5807            2   \n",
       "2          85.0          2010          68.2         64            2   \n",
       "3          85.6          2007          83.6       6920            1   \n",
       "4          78.0          2008          76.8      11368            2   \n",
       "\n",
       "   collegeGPA  CollegeCityID  CollegeCityTier  GraduationYear  English  ...  \\\n",
       "0       78.00           1141                0            2011      515  ...   \n",
       "1       70.06           5807                0            2012      695  ...   \n",
       "2       70.00             64                0            2014      615  ...   \n",
       "3       74.64           6920                1            2011      635  ...   \n",
       "4       73.90          11368                0            2012      545  ...   \n",
       "\n",
       "   CollegeState_Maharashtra  CollegeState_Orissa  CollegeState_Other  \\\n",
       "0                         0                    0                   0   \n",
       "1                         0                    0                   0   \n",
       "2                         0                    0                   0   \n",
       "3                         0                    0                   0   \n",
       "4                         0                    0                   0   \n",
       "\n",
       "   CollegeState_Punjab  CollegeState_Rajasthan  CollegeState_Tamil Nadu  \\\n",
       "0                    0                       0                        0   \n",
       "1                    0                       0                        0   \n",
       "2                    0                       0                        0   \n",
       "3                    0                       0                        0   \n",
       "4                    0                       0                        0   \n",
       "\n",
       "   CollegeState_Telangana  CollegeState_Uttar Pradesh  \\\n",
       "0                       0                           0   \n",
       "1                       0                           0   \n",
       "2                       0                           1   \n",
       "3                       0                           0   \n",
       "4                       0                           1   \n",
       "\n",
       "   CollegeState_Uttarakhand  CollegeState_West Bengal  \n",
       "0                         0                         0  \n",
       "1                         0                         0  \n",
       "2                         0                         0  \n",
       "3                         0                         0  \n",
       "4                         0                         0  \n",
       "\n",
       "[5 rows x 63 columns]"
      ]
     },
     "execution_count": 79,
     "metadata": {},
     "output_type": "execute_result"
    }
   ],
   "source": [
    "dum=pd.get_dummies(a)\n",
    "dum.head()"
   ]
  },
  {
   "cell_type": "markdown",
   "metadata": {},
   "source": [
    "## Decision Tree"
   ]
  },
  {
   "cell_type": "code",
   "execution_count": 80,
   "metadata": {},
   "outputs": [],
   "source": [
    "import numpy as np\n",
    "import pandas as pd\n",
    "from sklearn.model_selection import train_test_split\n",
    "from sklearn.tree import DecisionTreeClassifier\n",
    "from sklearn import tree\n",
    "\n",
    "#metrics\n",
    "from statistics import mean\n",
    "from sklearn.metrics import accuracy_score \n",
    "from sklearn.metrics import explained_variance_score as evs\n",
    "import seaborn as sns\n",
    "import matplotlib.pyplot as plt\n",
    "from sklearn.metrics import classification_report\n",
    "from sklearn.preprocessing import LabelEncoder\n",
    "import os"
   ]
  },
  {
   "cell_type": "code",
   "execution_count": 81,
   "metadata": {},
   "outputs": [],
   "source": [
    "X=dum\n",
    "y=b"
   ]
  },
  {
   "cell_type": "code",
   "execution_count": 82,
   "metadata": {},
   "outputs": [
    {
     "name": "stdout",
     "output_type": "stream",
     "text": [
      "(3998, 63)\n",
      "(3998,)\n"
     ]
    }
   ],
   "source": [
    "print(X.shape)\n",
    "print(y.shape)"
   ]
  },
  {
   "cell_type": "code",
   "execution_count": 83,
   "metadata": {},
   "outputs": [
    {
     "name": "stdout",
     "output_type": "stream",
     "text": [
      "(3198, 63)\n",
      "(800, 63)\n"
     ]
    }
   ],
   "source": [
    "X_train, X_test, y_train, y_test = train_test_split(X, y, test_size=0.20, random_state=1)\n",
    "print(X_train.shape)\n",
    "print(X_test.shape)"
   ]
  },
  {
   "cell_type": "code",
   "execution_count": 84,
   "metadata": {},
   "outputs": [],
   "source": [
    "# decision tree doesnt require scaling"
   ]
  },
  {
   "cell_type": "code",
   "execution_count": 85,
   "metadata": {},
   "outputs": [],
   "source": [
    "### a)Check gini as criterion"
   ]
  },
  {
   "cell_type": "code",
   "execution_count": 91,
   "metadata": {},
   "outputs": [
    {
     "data": {
      "text/plain": [
       "DecisionTreeClassifier(class_weight=None, criterion='gini', max_depth=3,\n",
       "                       max_features=None, max_leaf_nodes=None,\n",
       "                       min_impurity_decrease=0.0, min_impurity_split=None,\n",
       "                       min_samples_leaf=5, min_samples_split=2,\n",
       "                       min_weight_fraction_leaf=0.0, presort=False,\n",
       "                       random_state=100, splitter='best')"
      ]
     },
     "execution_count": 91,
     "metadata": {},
     "output_type": "execute_result"
    }
   ],
   "source": [
    "giniDecisionTree = DecisionTreeClassifier(criterion='gini',random_state = 100,max_depth=3, min_samples_leaf=5)\n",
    "\n",
    "giniDecisionTree.fit(X_train, y_train)"
   ]
  },
  {
   "cell_type": "code",
   "execution_count": 92,
   "metadata": {},
   "outputs": [],
   "source": [
    "giniPred = giniDecisionTree.predict(X_test)"
   ]
  },
  {
   "cell_type": "code",
   "execution_count": 93,
   "metadata": {},
   "outputs": [
    {
     "name": "stdout",
     "output_type": "stream",
     "text": [
      "Classification Report\n",
      "              precision    recall  f1-score   support\n",
      "\n",
      "        High       0.40      0.12      0.19        65\n",
      "         Low       0.66      0.80      0.72       425\n",
      "      Medium       0.59      0.50      0.54       310\n",
      "\n",
      "    accuracy                           0.63       800\n",
      "   macro avg       0.55      0.47      0.48       800\n",
      "weighted avg       0.61      0.63      0.61       800\n",
      "\n"
     ]
    }
   ],
   "source": [
    "print('Classification Report')\n",
    "print(classification_report(y_test, giniPred))"
   ]
  },
  {
   "cell_type": "markdown",
   "metadata": {},
   "source": [
    "### b)Check entropy as criterion "
   ]
  },
  {
   "cell_type": "code",
   "execution_count": 94,
   "metadata": {},
   "outputs": [],
   "source": [
    "entropyDecisionTree = DecisionTreeClassifier(criterion='entropy',random_state = 100,max_depth=3, min_samples_leaf=5)"
   ]
  },
  {
   "cell_type": "code",
   "execution_count": 95,
   "metadata": {},
   "outputs": [
    {
     "data": {
      "text/plain": [
       "DecisionTreeClassifier(class_weight=None, criterion='entropy', max_depth=3,\n",
       "                       max_features=None, max_leaf_nodes=None,\n",
       "                       min_impurity_decrease=0.0, min_impurity_split=None,\n",
       "                       min_samples_leaf=5, min_samples_split=2,\n",
       "                       min_weight_fraction_leaf=0.0, presort=False,\n",
       "                       random_state=100, splitter='best')"
      ]
     },
     "execution_count": 95,
     "metadata": {},
     "output_type": "execute_result"
    }
   ],
   "source": [
    "entropyDecisionTree.fit(X_train, y_train)"
   ]
  },
  {
   "cell_type": "code",
   "execution_count": 96,
   "metadata": {},
   "outputs": [],
   "source": [
    "entropyPred = entropyDecisionTree.predict(X_test)"
   ]
  },
  {
   "cell_type": "code",
   "execution_count": 97,
   "metadata": {},
   "outputs": [
    {
     "name": "stdout",
     "output_type": "stream",
     "text": [
      "Accuracy Score:  0.63125\n"
     ]
    }
   ],
   "source": [
    "print('Accuracy Score: ',accuracy_score(y_test, entropyPred))"
   ]
  },
  {
   "cell_type": "code",
   "execution_count": 98,
   "metadata": {},
   "outputs": [
    {
     "name": "stdout",
     "output_type": "stream",
     "text": [
      "              precision    recall  f1-score   support\n",
      "\n",
      "        High       0.00      0.00      0.00        65\n",
      "         Low       0.65      0.84      0.73       425\n",
      "      Medium       0.59      0.48      0.53       310\n",
      "\n",
      "    accuracy                           0.63       800\n",
      "   macro avg       0.41      0.44      0.42       800\n",
      "weighted avg       0.57      0.63      0.59       800\n",
      "\n"
     ]
    }
   ],
   "source": [
    "print(classification_report(y_test, entropyPred))"
   ]
  },
  {
   "cell_type": "markdown",
   "metadata": {},
   "source": [
    "### c)  applying standardscaler and checking for any improvement"
   ]
  },
  {
   "cell_type": "code",
   "execution_count": 100,
   "metadata": {},
   "outputs": [],
   "source": [
    "#gini index as criterion StandardScaler¶"
   ]
  },
  {
   "cell_type": "code",
   "execution_count": 101,
   "metadata": {},
   "outputs": [],
   "source": [
    "from sklearn.preprocessing import StandardScaler\n",
    "scaler = StandardScaler()\n",
    "X_train_scaler = scaler.fit_transform(X_train)\n",
    "X_test_scaler = scaler.fit_transform(X_test)\n"
   ]
  },
  {
   "cell_type": "code",
   "execution_count": 102,
   "metadata": {},
   "outputs": [],
   "source": [
    "giniDecisionTree = DecisionTreeClassifier(criterion='gini')"
   ]
  },
  {
   "cell_type": "code",
   "execution_count": 103,
   "metadata": {},
   "outputs": [
    {
     "data": {
      "text/plain": [
       "DecisionTreeClassifier(class_weight=None, criterion='gini', max_depth=None,\n",
       "                       max_features=None, max_leaf_nodes=None,\n",
       "                       min_impurity_decrease=0.0, min_impurity_split=None,\n",
       "                       min_samples_leaf=1, min_samples_split=2,\n",
       "                       min_weight_fraction_leaf=0.0, presort=False,\n",
       "                       random_state=None, splitter='best')"
      ]
     },
     "execution_count": 103,
     "metadata": {},
     "output_type": "execute_result"
    }
   ],
   "source": [
    "giniDecisionTree.fit(X_train_scaler, y_train)"
   ]
  },
  {
   "cell_type": "code",
   "execution_count": 104,
   "metadata": {},
   "outputs": [],
   "source": [
    "giniPred = giniDecisionTree.predict(X_test_scaler)"
   ]
  },
  {
   "cell_type": "code",
   "execution_count": 105,
   "metadata": {},
   "outputs": [
    {
     "name": "stdout",
     "output_type": "stream",
     "text": [
      "Accuracy Score:  0.54375\n"
     ]
    }
   ],
   "source": [
    "from sklearn.metrics import accuracy_score, classification_report\n",
    "print('Accuracy Score: ',accuracy_score(y_test, giniPred))"
   ]
  },
  {
   "cell_type": "code",
   "execution_count": 106,
   "metadata": {},
   "outputs": [
    {
     "name": "stdout",
     "output_type": "stream",
     "text": [
      "Classification Report\n",
      "              precision    recall  f1-score   support\n",
      "\n",
      "        High       0.19      0.20      0.20        65\n",
      "         Low       0.64      0.64      0.64       425\n",
      "      Medium       0.49      0.48      0.49       310\n",
      "\n",
      "    accuracy                           0.54       800\n",
      "   macro avg       0.44      0.44      0.44       800\n",
      "weighted avg       0.54      0.54      0.54       800\n",
      "\n"
     ]
    }
   ],
   "source": [
    "print('Classification Report')\n",
    "print(classification_report(y_test, giniPred))"
   ]
  },
  {
   "cell_type": "markdown",
   "metadata": {},
   "source": [
    "accuracy has got decreased "
   ]
  },
  {
   "cell_type": "markdown",
   "metadata": {},
   "source": [
    "### 2) randomforest classifier"
   ]
  },
  {
   "cell_type": "code",
   "execution_count": 108,
   "metadata": {},
   "outputs": [],
   "source": [
    "import numpy as np\n",
    "import pandas as pd\n",
    "import seaborn as sns\n",
    "import matplotlib.pyplot as plt\n",
    "from sklearn.metrics import roc_curve, auc\n",
    "from sklearn.metrics import confusion_matrix\n",
    "from sklearn.metrics import classification_report\n",
    "from sklearn.model_selection import KFold, cross_val_score\n",
    "from sklearn.model_selection import train_test_split, GridSearchCV\n",
    "from sklearn.ensemble import RandomForestClassifier \n",
    "import warnings\n",
    "warnings.filterwarnings(\"ignore\")"
   ]
  },
  {
   "cell_type": "code",
   "execution_count": 109,
   "metadata": {},
   "outputs": [],
   "source": [
    "X=dum\n",
    "y=b"
   ]
  },
  {
   "cell_type": "code",
   "execution_count": 110,
   "metadata": {},
   "outputs": [
    {
     "name": "stdout",
     "output_type": "stream",
     "text": [
      "(3198, 63)\n",
      "(800, 63)\n"
     ]
    }
   ],
   "source": [
    "training_set, test_set, class_set, test_class_set = train_test_split(X,y,test_size = 0.20,random_state = 1)\n",
    "print(training_set.shape)\n",
    "print(test_set.shape)"
   ]
  },
  {
   "cell_type": "code",
   "execution_count": 111,
   "metadata": {},
   "outputs": [],
   "source": [
    "fit_rf = RandomForestClassifier(random_state=42)"
   ]
  },
  {
   "cell_type": "markdown",
   "metadata": {},
   "source": [
    "Cheking Hyperparameters Optimization"
   ]
  },
  {
   "cell_type": "markdown",
   "metadata": {},
   "source": [
    "Utilizing the GridSearchCV functionality, let's create a dictionary with parameters we are looking to optimize to create the best model for our data"
   ]
  },
  {
   "cell_type": "code",
   "execution_count": 115,
   "metadata": {},
   "outputs": [
    {
     "name": "stdout",
     "output_type": "stream",
     "text": [
      "Best Parameters using grid search: \n",
      " {'bootstrap': False, 'criterion': 'gini', 'max_depth': 4, 'max_features': 'auto'}\n",
      "Time taken in grid search:  17.24\n"
     ]
    }
   ],
   "source": [
    "import time\n",
    "import random\n",
    "np.random.seed(42)\n",
    "start = time.time()\n",
    "\n",
    "param_dist = {'max_depth': [2, 3, 4],'bootstrap': [True, False],'max_features': ['auto', 'sqrt', 'log2', None],'criterion': ['gini', 'entropy']}\n",
    "\n",
    "cv_rf = GridSearchCV(fit_rf, cv = 10,param_grid=param_dist, n_jobs = 3)\n",
    "\n",
    "cv_rf.fit(training_set, class_set)\n",
    "print('Best Parameters using grid search: \\n', cv_rf.best_params_)\n",
    "end = time.time()\n",
    "print('Time taken in grid search: {0: .2f}'.format(end - start))"
   ]
  },
  {
   "cell_type": "markdown",
   "metadata": {},
   "source": [
    " Set best parameters given by grid search"
   ]
  },
  {
   "cell_type": "code",
   "execution_count": 116,
   "metadata": {},
   "outputs": [
    {
     "data": {
      "text/plain": [
       "RandomForestClassifier(bootstrap=True, class_weight=None, criterion='gini',\n",
       "                       max_depth=4, max_features='auto', max_leaf_nodes=None,\n",
       "                       min_impurity_decrease=0.0, min_impurity_split=None,\n",
       "                       min_samples_leaf=1, min_samples_split=2,\n",
       "                       min_weight_fraction_leaf=0.0, n_estimators='warn',\n",
       "                       n_jobs=None, oob_score=False, random_state=42, verbose=0,\n",
       "                       warm_start=False)"
      ]
     },
     "execution_count": 116,
     "metadata": {},
     "output_type": "execute_result"
    }
   ],
   "source": [
    "fit_rf.set_params(criterion = 'gini',max_features = 'auto',max_depth = 4)"
   ]
  },
  {
   "cell_type": "code",
   "execution_count": 117,
   "metadata": {},
   "outputs": [],
   "source": [
    "fit_rf.set_params(warm_start=True, \n",
    "                  oob_score=True)\n",
    "\n",
    "min_estimators = 15\n",
    "max_estimators = 1000\n",
    "\n",
    "error_rate = {}\n",
    "\n",
    "for i in range(min_estimators, max_estimators + 1):\n",
    "    fit_rf.set_params(n_estimators=i)\n",
    "    fit_rf.fit(training_set, class_set)\n",
    "\n",
    "    oob_error = 1 - fit_rf.oob_score_\n",
    "    error_rate[i] = oob_error"
   ]
  },
  {
   "cell_type": "code",
   "execution_count": 119,
   "metadata": {},
   "outputs": [],
   "source": [
    "\n",
    "oob_series = pd.Series(error_rate)\n"
   ]
  },
  {
   "cell_type": "markdown",
   "metadata": {},
   "source": [
    "plotting the OOB error plot"
   ]
  },
  {
   "cell_type": "code",
   "execution_count": 120,
   "metadata": {},
   "outputs": [
    {
     "data": {
      "text/plain": [
       "Text(0.5, 1.0, 'OOB Error Rate Across various Forest sizes \\n(From 15 to 1000 trees)')"
      ]
     },
     "execution_count": 120,
     "metadata": {},
     "output_type": "execute_result"
    },
    {
     "data": {
      "image/png": "[encoded data removed]",
      "text/plain": [
       "<Figure size 720x720 with 1 Axes>"
      ]
     },
     "metadata": {
      "needs_background": "light"
     },
     "output_type": "display_data"
    }
   ],
   "source": [
    "fig, ax = plt.subplots(figsize=(10, 10))\n",
    "\n",
    "ax.set_facecolor('#fafafa')\n",
    "\n",
    "oob_series.plot(kind='line',\n",
    "                color = 'green')\n",
    "plt.axhline(0.055, \n",
    "            color='#875FDB',\n",
    "           linestyle='--')\n",
    "plt.axhline(0.05, \n",
    "            color='#875FDB',\n",
    "           linestyle='--')\n",
    "plt.xlabel('n_estimators')\n",
    "plt.ylabel('OOB Error Rate')\n",
    "plt.title('OOB Error Rate Across various Forest sizes \\n(From 15 to 1000 trees)')"
   ]
  },
  {
   "cell_type": "code",
   "execution_count": 121,
   "metadata": {},
   "outputs": [
    {
     "data": {
      "text/plain": [
       "RandomForestClassifier(bootstrap=True, class_weight=None, criterion='gini',\n",
       "                       max_depth=4, max_features='auto', max_leaf_nodes=None,\n",
       "                       min_impurity_decrease=0.0, min_impurity_split=None,\n",
       "                       min_samples_leaf=1, min_samples_split=2,\n",
       "                       min_weight_fraction_leaf=0.0, n_estimators=1000,\n",
       "                       n_jobs=None, oob_score=True, random_state=42, verbose=0,\n",
       "                       warm_start=True)"
      ]
     },
     "execution_count": 121,
     "metadata": {},
     "output_type": "execute_result"
    }
   ],
   "source": [
    "fit_rf.set_params(criterion = 'gini',max_features = 'auto',max_depth = 4)"
   ]
  },
  {
   "cell_type": "code",
   "execution_count": 122,
   "metadata": {},
   "outputs": [
    {
     "data": {
      "text/plain": [
       "RandomForestClassifier(bootstrap=True, class_weight=None, criterion='gini',\n",
       "                       max_depth=4, max_features='auto', max_leaf_nodes=None,\n",
       "                       min_impurity_decrease=0.0, min_impurity_split=None,\n",
       "                       min_samples_leaf=1, min_samples_split=2,\n",
       "                       min_weight_fraction_leaf=0.0, n_estimators=1000,\n",
       "                       n_jobs=None, oob_score=True, random_state=42, verbose=0,\n",
       "                       warm_start=True)"
      ]
     },
     "execution_count": 122,
     "metadata": {},
     "output_type": "execute_result"
    }
   ],
   "source": [
    "fit_rf.fit(training_set, class_set)"
   ]
  }
 ],
 "metadata": {
  "kernelspec": {
   "display_name": "Python 3",
   "language": "python",
   "name": "python3"
  },
  "language_info": {
   "codemirror_mode": {
    "name": "ipython",
    "version": 3
   },
   "file_extension": ".py",
   "mimetype": "text/x-python",
   "name": "python",
   "nbconvert_exporter": "python",
   "pygments_lexer": "ipython3",
   "version": "3.7.4"
  }
 },
 "nbformat": 4,
 "nbformat_minor": 2
}
